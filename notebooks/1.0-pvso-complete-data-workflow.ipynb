{
 "cells": [
  {
   "cell_type": "markdown",
   "id": "f267a71b",
   "metadata": {},
   "source": [
    "Análise inicial"
   ]
  },
  {
   "cell_type": "code",
   "execution_count": null,
   "id": "6c27403c",
   "metadata": {},
   "outputs": [],
   "source": [
    "import pandas as pd"
   ]
  },
  {
   "cell_type": "code",
   "execution_count": null,
   "id": "fbcb0ab289cfa5fe",
   "metadata": {},
   "outputs": [],
   "source": [
    "df = pd.read_excel('../data/raw/iFood.xlsx')"
   ]
  },
  {
   "cell_type": "code",
   "execution_count": null,
   "id": "b53398b28b26c02c",
   "metadata": {},
   "outputs": [],
   "source": [
    "df.head()"
   ]
  },
  {
   "cell_type": "code",
   "execution_count": null,
   "id": "4e6c196e8db5ed6f",
   "metadata": {},
   "outputs": [],
   "source": [
    "df.tail()"
   ]
  },
  {
   "cell_type": "code",
   "execution_count": null,
   "id": "1636735c30b4ea60",
   "metadata": {},
   "outputs": [],
   "source": [
    "df.info()"
   ]
  },
  {
   "cell_type": "code",
   "execution_count": null,
   "id": "912157b77d143bb8",
   "metadata": {},
   "outputs": [],
   "source": [
    "df.shape"
   ]
  },
  {
   "cell_type": "code",
   "execution_count": null,
   "id": "15ea47ea0a39fe3f",
   "metadata": {},
   "outputs": [],
   "source": [
    "df.columns"
   ]
  },
  {
   "cell_type": "code",
   "execution_count": null,
   "id": "bfaec14343a5f565",
   "metadata": {},
   "outputs": [],
   "source": [
    "df.isnull().sum()"
   ]
  },
  {
   "cell_type": "code",
   "execution_count": null,
   "id": "d247a35058e9745a",
   "metadata": {},
   "outputs": [],
   "source": [
    "df.value_counts()"
   ]
  },
  {
   "cell_type": "code",
   "execution_count": null,
   "id": "904e2de23abfa002",
   "metadata": {},
   "outputs": [],
   "source": [
    "df.describe(include='object')"
   ]
  },
  {
   "cell_type": "markdown",
   "id": "c83a3bf8bc6259d1",
   "metadata": {},
   "source": [
    "---"
   ]
  },
  {
   "cell_type": "markdown",
   "id": "75ed0197",
   "metadata": {},
   "source": [
    "Preprocessamento e Limpeza"
   ]
  },
  {
   "cell_type": "code",
   "execution_count": null,
   "id": "7345036b",
   "metadata": {},
   "outputs": [],
   "source": [
    "df.columns"
   ]
  },
  {
   "cell_type": "code",
   "execution_count": null,
   "id": "d65a6651",
   "metadata": {},
   "outputs": [],
   "source": [
    "df['MntRegularProds'].head()"
   ]
  },
  {
   "cell_type": "code",
   "execution_count": null,
   "id": "d66fcd14",
   "metadata": {},
   "outputs": [],
   "source": [
    "# removendo os produtos regulares comprados e os registros da aceitação do cliente\n",
    "\n",
    "df.drop(columns=['MntRegularProds','AcceptedCmp1', 'AcceptedCmp2', 'AcceptedCmp3',\n",
    "       'AcceptedCmp4', 'AcceptedCmp5', 'AcceptedCmpOverall'], inplace=True)"
   ]
  },
  {
   "cell_type": "code",
   "execution_count": null,
   "id": "981945d7",
   "metadata": {},
   "outputs": [],
   "source": [
    "df.columns"
   ]
  },
  {
   "cell_type": "code",
   "execution_count": null,
   "id": "a0167637",
   "metadata": {},
   "outputs": [],
   "source": [
    "df.head()"
   ]
  },
  {
   "cell_type": "code",
   "execution_count": null,
   "id": "2b63ad5a206231c5",
   "metadata": {},
   "outputs": [],
   "source": [
    "df.rename(columns={\n",
    "    'Index': 'ID',\n",
    "    'Income': 'Salario',\n",
    "    'Age': 'Idade',\n",
    "    'Customer_Days': 'Dias-Cliente',\n",
    "    'marital_status': 'Estado_Civil',\n",
    "    'education': 'Formação',\n",
    "    'Kidhome': 'Criancas-Casa',\n",
    "    'Teenhome': 'Adolescentes-Casa',\n",
    "    'Recency': 'Recencia',\n",
    "    'MntWines': 'Qtde-Vinhos',\n",
    "    'MntFruits': 'Qtde-Frutas',\n",
    "    'MntMeatProducts': 'Qtde-Carnes',\n",
    "    'MntFishProducts': 'Qtde-Peixes',\n",
    "    'MntSweetProducts': 'Qtde-Doces',\n",
    "    'MntGoldProds': 'Qtde-Premium',\n",
    "    'MntTotal': 'Gasto-Cliente',\n",
    "    'NumDealsPurchases': 'Qtde-Compras',\n",
    "    'NumWebPurchases': 'Qtde-Compras-Web',\n",
    "    'NumCatalogPurchases': 'Qtde-Compras-Catalogo',\n",
    "    'NumStorePurchases': 'Qtde-Compras-Loja',\n",
    "    'NumWebVisitsMonth': 'Visitas-Site-Mes',\n",
    "    'Complain': 'Reclamacoes',\n",
    "}, inplace=True)"
   ]
  },
  {
   "cell_type": "code",
   "execution_count": null,
   "id": "834e698b",
   "metadata": {},
   "outputs": [],
   "source": [
    "df.columns"
   ]
  },
  {
   "cell_type": "code",
   "execution_count": null,
   "id": "036c937f",
   "metadata": {},
   "outputs": [],
   "source": [
    "df['Formação'].unique()"
   ]
  },
  {
   "cell_type": "code",
   "execution_count": null,
   "id": "c25c9b9d",
   "metadata": {},
   "outputs": [],
   "source": [
    "df['Formação'] = df['Formação'].replace({\n",
    "    'Graduation': 'Graduação',\n",
    "    'PHD': 'Doutorado',\n",
    "    'Master': 'Mestrado',\n",
    "    'Basic': 'Fundamental',\n",
    "    '2n Cycle': 'Medio'\n",
    "})"
   ]
  },
  {
   "cell_type": "code",
   "execution_count": null,
   "id": "6b1652cf",
   "metadata": {},
   "outputs": [],
   "source": [
    "df['Estado_Civil'].unique()"
   ]
  },
  {
   "cell_type": "code",
   "execution_count": null,
   "id": "da78e5ca",
   "metadata": {},
   "outputs": [],
   "source": [
    "df['Estado_Civil'] = df['Estado_Civil'].replace({\n",
    "    'Single': 'Solteiro',\n",
    "    'Together': 'Namorando',\n",
    "    'Married': 'Casado',\n",
    "    'Divorced': 'Divorciado',\n",
    "    'Widow': 'Viúvo(a)'\n",
    "})"
   ]
  },
  {
   "cell_type": "code",
   "execution_count": null,
   "id": "fb5fc632",
   "metadata": {},
   "outputs": [],
   "source": [
    "caixas = [20, 30, 40, 50, 60, 70, 80]\n",
    "\n",
    "rotulos = [\n",
    "    '21-30', '31-40','41-50','51-60','61-70','71-80'\n",
    "]\n",
    "\n",
    "df['Faixa-Etaria'] = pd.cut(df['Idade'], bins=caixas, labels=rotulos, right=True, include_lowest=True)"
   ]
  },
  {
   "cell_type": "code",
   "execution_count": null,
   "id": "6a353716",
   "metadata": {},
   "outputs": [],
   "source": [
    "df.columns"
   ]
  },
  {
   "cell_type": "code",
   "execution_count": null,
   "id": "48a9a385",
   "metadata": {},
   "outputs": [],
   "source": [
    "ordem = [\n",
    "    'ID', 'Salario', 'Idade', 'Faixa-Etaria', 'Estado_Civil', 'Formação', 'Criancas-Casa',\n",
    "    'Adolescentes-Casa', 'Recencia', 'Qtde-Vinhos', 'Qtde-Frutas', 'Qtde-Carnes', 'Qtde-Peixes',\n",
    "    'Qtde-Doces', 'Qtde-Premium', 'Qtde-Compras', 'Qtde-Compras-Web','Qtde-Compras-Catalogo',\n",
    "    'Qtde-Compras-Loja', 'Visitas-Site-Mes', 'Reclamacoes', 'Gasto-Cliente'\n",
    "]\n",
    "\n",
    "df = df[ordem]"
   ]
  },
  {
   "cell_type": "code",
   "execution_count": null,
   "id": "c76cc4a8",
   "metadata": {},
   "outputs": [],
   "source": [
    "df.head()"
   ]
  },
  {
   "cell_type": "code",
   "execution_count": null,
   "id": "42c69cb0",
   "metadata": {},
   "outputs": [],
   "source": [
    "df.to_csv('../data/processed/iFood.csv')"
   ]
  },
  {
   "cell_type": "code",
   "execution_count": null,
   "id": "c47f7df9",
   "metadata": {},
   "outputs": [],
   "source": [
    "df.to_parquet('../data/processed/iFood.parquet')"
   ]
  },
  {
   "cell_type": "markdown",
   "id": "3931080d",
   "metadata": {},
   "source": [
    "---"
   ]
  },
  {
   "cell_type": "markdown",
   "id": "37194aeb",
   "metadata": {},
   "source": [
    "Análise Exploratória"
   ]
  },
  {
   "cell_type": "markdown",
   "id": "928dccc0",
   "metadata": {},
   "source": [
    "---"
   ]
  },
  {
   "cell_type": "markdown",
   "id": "631b906b",
   "metadata": {},
   "source": []
  },
  {
   "cell_type": "markdown",
   "id": "c3350c81",
   "metadata": {},
   "source": [
    "---"
   ]
  }
 ],
 "metadata": {
  "kernelspec": {
   "display_name": "py_313_data (3.13.5)",
   "language": "python",
   "name": "python3"
  },
  "language_info": {
   "codemirror_mode": {
    "name": "ipython",
    "version": 3
   },
   "file_extension": ".py",
   "mimetype": "text/x-python",
   "name": "python",
   "nbconvert_exporter": "python",
   "pygments_lexer": "ipython3",
   "version": "3.13.5"
  }
 },
 "nbformat": 4,
 "nbformat_minor": 5
}
