{
 "cells": [
  {
   "cell_type": "markdown",
   "id": "f267a71b",
   "metadata": {},
   "source": [
    "Análise inicial"
   ]
  },
  {
   "cell_type": "code",
   "execution_count": 1,
   "id": "6c27403c",
   "metadata": {},
   "outputs": [],
   "source": [
    "import pandas as pd\n",
    "import plotly.express as px"
   ]
  },
  {
   "cell_type": "code",
   "execution_count": null,
   "id": "fbcb0ab289cfa5fe",
   "metadata": {},
   "outputs": [],
   "source": [
    "df = pd.read_excel('../data/raw/iFood.xlsx')"
   ]
  },
  {
   "cell_type": "code",
   "execution_count": null,
   "id": "b53398b28b26c02c",
   "metadata": {},
   "outputs": [],
   "source": [
    "df.head()"
   ]
  },
  {
   "cell_type": "code",
   "execution_count": null,
   "id": "4e6c196e8db5ed6f",
   "metadata": {},
   "outputs": [],
   "source": [
    "df.tail()"
   ]
  },
  {
   "cell_type": "code",
   "execution_count": null,
   "id": "1636735c30b4ea60",
   "metadata": {},
   "outputs": [],
   "source": [
    "df.info()"
   ]
  },
  {
   "cell_type": "code",
   "execution_count": null,
   "id": "912157b77d143bb8",
   "metadata": {},
   "outputs": [],
   "source": [
    "df.shape"
   ]
  },
  {
   "cell_type": "code",
   "execution_count": null,
   "id": "15ea47ea0a39fe3f",
   "metadata": {},
   "outputs": [],
   "source": [
    "df.columns"
   ]
  },
  {
   "cell_type": "code",
   "execution_count": null,
   "id": "bfaec14343a5f565",
   "metadata": {},
   "outputs": [],
   "source": [
    "df.isnull().sum()"
   ]
  },
  {
   "cell_type": "code",
   "execution_count": null,
   "id": "d247a35058e9745a",
   "metadata": {},
   "outputs": [],
   "source": [
    "df.value_counts()"
   ]
  },
  {
   "cell_type": "code",
   "execution_count": null,
   "id": "904e2de23abfa002",
   "metadata": {},
   "outputs": [],
   "source": [
    "df.describe(include='object')"
   ]
  },
  {
   "cell_type": "markdown",
   "id": "c83a3bf8bc6259d1",
   "metadata": {},
   "source": [
    "---"
   ]
  },
  {
   "cell_type": "markdown",
   "id": "75ed0197",
   "metadata": {},
   "source": [
    "Preprocessamento e Limpeza"
   ]
  },
  {
   "cell_type": "code",
   "execution_count": null,
   "id": "7345036b",
   "metadata": {},
   "outputs": [],
   "source": [
    "df.columns"
   ]
  },
  {
   "cell_type": "code",
   "execution_count": null,
   "id": "d65a6651",
   "metadata": {},
   "outputs": [],
   "source": [
    "df['MntRegularProds'].head()"
   ]
  },
  {
   "cell_type": "code",
   "execution_count": null,
   "id": "d66fcd14",
   "metadata": {},
   "outputs": [],
   "source": [
    "# removendo os produtos regulares comprados e os registros da aceitação do cliente\n",
    "\n",
    "df.drop(columns=['MntRegularProds','AcceptedCmp1', 'AcceptedCmp2', 'AcceptedCmp3',\n",
    "       'AcceptedCmp4', 'AcceptedCmp5', 'AcceptedCmpOverall'], inplace=True)"
   ]
  },
  {
   "cell_type": "code",
   "execution_count": null,
   "id": "981945d7",
   "metadata": {},
   "outputs": [],
   "source": [
    "df.columns"
   ]
  },
  {
   "cell_type": "code",
   "execution_count": null,
   "id": "a0167637",
   "metadata": {},
   "outputs": [],
   "source": [
    "df.head()"
   ]
  },
  {
   "cell_type": "code",
   "execution_count": null,
   "id": "2b63ad5a206231c5",
   "metadata": {},
   "outputs": [],
   "source": [
    "df.rename(columns={\n",
    "    'Index': 'ID',\n",
    "    'Income': 'Salario',\n",
    "    'Age': 'Idade',\n",
    "    'Customer_Days': 'Dias-Cliente',\n",
    "    'marital_status': 'Estado_Civil',\n",
    "    'education': 'Formação',\n",
    "    'Kidhome': 'Criancas-Casa',\n",
    "    'Teenhome': 'Adolescentes-Casa',\n",
    "    'Recency': 'Recencia',\n",
    "    'MntWines': 'Qtde-Vinhos',\n",
    "    'MntFruits': 'Qtde-Frutas',\n",
    "    'MntMeatProducts': 'Qtde-Carnes',\n",
    "    'MntFishProducts': 'Qtde-Peixes',\n",
    "    'MntSweetProducts': 'Qtde-Doces',\n",
    "    'MntGoldProds': 'Qtde-Premium',\n",
    "    'MntTotal': 'Gasto-Cliente',\n",
    "    'NumDealsPurchases': 'Qtde-Compras',\n",
    "    'NumWebPurchases': 'Qtde-Compras-Web',\n",
    "    'NumCatalogPurchases': 'Qtde-Compras-Catalogo',\n",
    "    'NumStorePurchases': 'Qtde-Compras-Loja',\n",
    "    'NumWebVisitsMonth': 'Visitas-Site-Mes',\n",
    "    'Complain': 'Reclamacoes',\n",
    "}, inplace=True)"
   ]
  },
  {
   "cell_type": "code",
   "execution_count": null,
   "id": "f0aa904c",
   "metadata": {},
   "outputs": [],
   "source": [
    "df['ID'] = df['ID'] - 1000\n",
    "\n",
    "df['ID'].unique()"
   ]
  },
  {
   "cell_type": "code",
   "execution_count": null,
   "id": "834e698b",
   "metadata": {},
   "outputs": [],
   "source": [
    "df.columns"
   ]
  },
  {
   "cell_type": "code",
   "execution_count": null,
   "id": "036c937f",
   "metadata": {},
   "outputs": [],
   "source": [
    "df['Formação'].unique()"
   ]
  },
  {
   "cell_type": "code",
   "execution_count": null,
   "id": "c25c9b9d",
   "metadata": {},
   "outputs": [],
   "source": [
    "df['Formação'] = df['Formação'].replace({\n",
    "    'Graduation': 'Graduação',\n",
    "    'PHD': 'Doutorado',\n",
    "    'Master': 'Mestrado',\n",
    "    'Basic': 'Fundamental',\n",
    "    '2n Cycle': 'Medio'\n",
    "})"
   ]
  },
  {
   "cell_type": "code",
   "execution_count": null,
   "id": "6b1652cf",
   "metadata": {},
   "outputs": [],
   "source": [
    "df['Estado_Civil'].unique()"
   ]
  },
  {
   "cell_type": "code",
   "execution_count": null,
   "id": "da78e5ca",
   "metadata": {},
   "outputs": [],
   "source": [
    "df['Estado_Civil'] = df['Estado_Civil'].replace({\n",
    "    'Single': 'Solteiro',\n",
    "    'Together': 'Namorando',\n",
    "    'Married': 'Casado',\n",
    "    'Divorced': 'Divorciado',\n",
    "    'Widow': 'Viúvo(a)'\n",
    "})"
   ]
  },
  {
   "cell_type": "code",
   "execution_count": null,
   "id": "fb5fc632",
   "metadata": {},
   "outputs": [],
   "source": [
    "caixas = [20, 30, 40, 50, 60, 70, 80]\n",
    "\n",
    "rotulos = [\n",
    "    '21-30', '31-40','41-50','51-60','61-70','71-80'\n",
    "]\n",
    "\n",
    "df['Faixa-Etaria'] = pd.cut(df['Idade'], bins=caixas, labels=rotulos, right=True, include_lowest=True)"
   ]
  },
  {
   "cell_type": "code",
   "execution_count": null,
   "id": "6a353716",
   "metadata": {},
   "outputs": [],
   "source": [
    "df.columns"
   ]
  },
  {
   "cell_type": "code",
   "execution_count": null,
   "id": "48a9a385",
   "metadata": {},
   "outputs": [],
   "source": [
    "ordem = [\n",
    "    'ID', 'Salario', 'Idade', 'Faixa-Etaria', 'Estado_Civil', 'Formação', 'Criancas-Casa',\n",
    "    'Adolescentes-Casa', 'Recencia', 'Qtde-Vinhos', 'Qtde-Frutas', 'Qtde-Carnes', 'Qtde-Peixes',\n",
    "    'Qtde-Doces', 'Qtde-Premium', 'Qtde-Compras', 'Qtde-Compras-Web','Qtde-Compras-Catalogo',\n",
    "    'Qtde-Compras-Loja', 'Visitas-Site-Mes', 'Reclamacoes', 'Gasto-Cliente'\n",
    "]\n",
    "\n",
    "df = df[ordem]"
   ]
  },
  {
   "cell_type": "code",
   "execution_count": null,
   "id": "c76cc4a8",
   "metadata": {},
   "outputs": [],
   "source": [
    "df.head()"
   ]
  },
  {
   "cell_type": "code",
   "execution_count": null,
   "id": "42c69cb0",
   "metadata": {},
   "outputs": [],
   "source": [
    "df.to_csv('../data/processed/iFood.csv')"
   ]
  },
  {
   "cell_type": "code",
   "execution_count": null,
   "id": "c47f7df9",
   "metadata": {},
   "outputs": [],
   "source": [
    "df.to_parquet('../data/processed/iFood.parquet')"
   ]
  },
  {
   "cell_type": "markdown",
   "id": "3931080d",
   "metadata": {},
   "source": [
    "---"
   ]
  },
  {
   "cell_type": "markdown",
   "id": "37194aeb",
   "metadata": {},
   "source": [
    "Análise Exploratória"
   ]
  },
  {
   "cell_type": "code",
   "execution_count": 2,
   "id": "e0696a0d",
   "metadata": {},
   "outputs": [],
   "source": [
    "df = pd.read_parquet('../data/processed/iFood.parquet')"
   ]
  },
  {
   "cell_type": "code",
   "execution_count": 3,
   "id": "10cf7916",
   "metadata": {},
   "outputs": [
    {
     "data": {
      "text/plain": [
       "Index(['ID', 'Salario', 'Idade', 'Faixa-Etaria', 'Estado_Civil', 'Formação',\n",
       "       'Criancas-Casa', 'Adolescentes-Casa', 'Recencia', 'Qtde-Vinhos',\n",
       "       'Qtde-Frutas', 'Qtde-Carnes', 'Qtde-Peixes', 'Qtde-Doces',\n",
       "       'Qtde-Premium', 'Qtde-Compras', 'Qtde-Compras-Web',\n",
       "       'Qtde-Compras-Catalogo', 'Qtde-Compras-Loja', 'Visitas-Site-Mes',\n",
       "       'Reclamacoes', 'Gasto-Cliente'],\n",
       "      dtype='object')"
      ]
     },
     "execution_count": 3,
     "metadata": {},
     "output_type": "execute_result"
    }
   ],
   "source": [
    "df.columns"
   ]
  },
  {
   "cell_type": "code",
   "execution_count": 5,
   "id": "54a35b38",
   "metadata": {},
   "outputs": [
    {
     "name": "stderr",
     "output_type": "stream",
     "text": [
      "C:\\Users\\pedro\\AppData\\Local\\Temp\\ipykernel_2332\\1363573296.py:4: FutureWarning:\n",
      "\n",
      "The default value of observed=False is deprecated and will change to observed=True in a future version of pandas. Specify observed=False to silence this warning and retain the current behavior\n",
      "\n"
     ]
    },
    {
     "data": {
      "application/vnd.plotly.v1+json": {
       "config": {
        "plotlyServerURL": "https://plot.ly"
       },
       "data": [
        {
         "hovertemplate": "Faixa-Etaria=%{x}<br>Gasto-Cliente=%{y}<br>text=%{text}<extra></extra>",
         "legendgroup": "",
         "marker": {
          "color": "royalblue",
          "pattern": {
           "shape": ""
          }
         },
         "name": "",
         "orientation": "v",
         "showlegend": false,
         "text": [
          "R$ 45.837,00",
          "R$ 175.176,00",
          "R$ 350.590,00",
          "R$ 290.520,00",
          "R$ 285.289,00",
          "R$ 93.484,00"
         ],
         "textposition": "auto",
         "type": "bar",
         "x": [
          "21-30",
          "31-40",
          "41-50",
          "51-60",
          "61-70",
          "71-80"
         ],
         "xaxis": "x",
         "y": {
          "bdata": "DbMAAEisAgB+WQUA2G4EAGlaBAAsbQEA",
          "dtype": "i4"
         },
         "yaxis": "y"
        }
       ],
       "layout": {
        "barmode": "relative",
        "legend": {
         "tracegroupgap": 0
        },
        "margin": {
         "t": 60
        },
        "plot_bgcolor": "white",
        "showlegend": false,
        "template": {
         "data": {
          "bar": [
           {
            "error_x": {
             "color": "#2a3f5f"
            },
            "error_y": {
             "color": "#2a3f5f"
            },
            "marker": {
             "line": {
              "color": "#E5ECF6",
              "width": 0.5
             },
             "pattern": {
              "fillmode": "overlay",
              "size": 10,
              "solidity": 0.2
             }
            },
            "type": "bar"
           }
          ],
          "barpolar": [
           {
            "marker": {
             "line": {
              "color": "#E5ECF6",
              "width": 0.5
             },
             "pattern": {
              "fillmode": "overlay",
              "size": 10,
              "solidity": 0.2
             }
            },
            "type": "barpolar"
           }
          ],
          "carpet": [
           {
            "aaxis": {
             "endlinecolor": "#2a3f5f",
             "gridcolor": "white",
             "linecolor": "white",
             "minorgridcolor": "white",
             "startlinecolor": "#2a3f5f"
            },
            "baxis": {
             "endlinecolor": "#2a3f5f",
             "gridcolor": "white",
             "linecolor": "white",
             "minorgridcolor": "white",
             "startlinecolor": "#2a3f5f"
            },
            "type": "carpet"
           }
          ],
          "choropleth": [
           {
            "colorbar": {
             "outlinewidth": 0,
             "ticks": ""
            },
            "type": "choropleth"
           }
          ],
          "contour": [
           {
            "colorbar": {
             "outlinewidth": 0,
             "ticks": ""
            },
            "colorscale": [
             [
              0,
              "#0d0887"
             ],
             [
              0.1111111111111111,
              "#46039f"
             ],
             [
              0.2222222222222222,
              "#7201a8"
             ],
             [
              0.3333333333333333,
              "#9c179e"
             ],
             [
              0.4444444444444444,
              "#bd3786"
             ],
             [
              0.5555555555555556,
              "#d8576b"
             ],
             [
              0.6666666666666666,
              "#ed7953"
             ],
             [
              0.7777777777777778,
              "#fb9f3a"
             ],
             [
              0.8888888888888888,
              "#fdca26"
             ],
             [
              1,
              "#f0f921"
             ]
            ],
            "type": "contour"
           }
          ],
          "contourcarpet": [
           {
            "colorbar": {
             "outlinewidth": 0,
             "ticks": ""
            },
            "type": "contourcarpet"
           }
          ],
          "heatmap": [
           {
            "colorbar": {
             "outlinewidth": 0,
             "ticks": ""
            },
            "colorscale": [
             [
              0,
              "#0d0887"
             ],
             [
              0.1111111111111111,
              "#46039f"
             ],
             [
              0.2222222222222222,
              "#7201a8"
             ],
             [
              0.3333333333333333,
              "#9c179e"
             ],
             [
              0.4444444444444444,
              "#bd3786"
             ],
             [
              0.5555555555555556,
              "#d8576b"
             ],
             [
              0.6666666666666666,
              "#ed7953"
             ],
             [
              0.7777777777777778,
              "#fb9f3a"
             ],
             [
              0.8888888888888888,
              "#fdca26"
             ],
             [
              1,
              "#f0f921"
             ]
            ],
            "type": "heatmap"
           }
          ],
          "histogram": [
           {
            "marker": {
             "pattern": {
              "fillmode": "overlay",
              "size": 10,
              "solidity": 0.2
             }
            },
            "type": "histogram"
           }
          ],
          "histogram2d": [
           {
            "colorbar": {
             "outlinewidth": 0,
             "ticks": ""
            },
            "colorscale": [
             [
              0,
              "#0d0887"
             ],
             [
              0.1111111111111111,
              "#46039f"
             ],
             [
              0.2222222222222222,
              "#7201a8"
             ],
             [
              0.3333333333333333,
              "#9c179e"
             ],
             [
              0.4444444444444444,
              "#bd3786"
             ],
             [
              0.5555555555555556,
              "#d8576b"
             ],
             [
              0.6666666666666666,
              "#ed7953"
             ],
             [
              0.7777777777777778,
              "#fb9f3a"
             ],
             [
              0.8888888888888888,
              "#fdca26"
             ],
             [
              1,
              "#f0f921"
             ]
            ],
            "type": "histogram2d"
           }
          ],
          "histogram2dcontour": [
           {
            "colorbar": {
             "outlinewidth": 0,
             "ticks": ""
            },
            "colorscale": [
             [
              0,
              "#0d0887"
             ],
             [
              0.1111111111111111,
              "#46039f"
             ],
             [
              0.2222222222222222,
              "#7201a8"
             ],
             [
              0.3333333333333333,
              "#9c179e"
             ],
             [
              0.4444444444444444,
              "#bd3786"
             ],
             [
              0.5555555555555556,
              "#d8576b"
             ],
             [
              0.6666666666666666,
              "#ed7953"
             ],
             [
              0.7777777777777778,
              "#fb9f3a"
             ],
             [
              0.8888888888888888,
              "#fdca26"
             ],
             [
              1,
              "#f0f921"
             ]
            ],
            "type": "histogram2dcontour"
           }
          ],
          "mesh3d": [
           {
            "colorbar": {
             "outlinewidth": 0,
             "ticks": ""
            },
            "type": "mesh3d"
           }
          ],
          "parcoords": [
           {
            "line": {
             "colorbar": {
              "outlinewidth": 0,
              "ticks": ""
             }
            },
            "type": "parcoords"
           }
          ],
          "pie": [
           {
            "automargin": true,
            "type": "pie"
           }
          ],
          "scatter": [
           {
            "fillpattern": {
             "fillmode": "overlay",
             "size": 10,
             "solidity": 0.2
            },
            "type": "scatter"
           }
          ],
          "scatter3d": [
           {
            "line": {
             "colorbar": {
              "outlinewidth": 0,
              "ticks": ""
             }
            },
            "marker": {
             "colorbar": {
              "outlinewidth": 0,
              "ticks": ""
             }
            },
            "type": "scatter3d"
           }
          ],
          "scattercarpet": [
           {
            "marker": {
             "colorbar": {
              "outlinewidth": 0,
              "ticks": ""
             }
            },
            "type": "scattercarpet"
           }
          ],
          "scattergeo": [
           {
            "marker": {
             "colorbar": {
              "outlinewidth": 0,
              "ticks": ""
             }
            },
            "type": "scattergeo"
           }
          ],
          "scattergl": [
           {
            "marker": {
             "colorbar": {
              "outlinewidth": 0,
              "ticks": ""
             }
            },
            "type": "scattergl"
           }
          ],
          "scattermap": [
           {
            "marker": {
             "colorbar": {
              "outlinewidth": 0,
              "ticks": ""
             }
            },
            "type": "scattermap"
           }
          ],
          "scattermapbox": [
           {
            "marker": {
             "colorbar": {
              "outlinewidth": 0,
              "ticks": ""
             }
            },
            "type": "scattermapbox"
           }
          ],
          "scatterpolar": [
           {
            "marker": {
             "colorbar": {
              "outlinewidth": 0,
              "ticks": ""
             }
            },
            "type": "scatterpolar"
           }
          ],
          "scatterpolargl": [
           {
            "marker": {
             "colorbar": {
              "outlinewidth": 0,
              "ticks": ""
             }
            },
            "type": "scatterpolargl"
           }
          ],
          "scatterternary": [
           {
            "marker": {
             "colorbar": {
              "outlinewidth": 0,
              "ticks": ""
             }
            },
            "type": "scatterternary"
           }
          ],
          "surface": [
           {
            "colorbar": {
             "outlinewidth": 0,
             "ticks": ""
            },
            "colorscale": [
             [
              0,
              "#0d0887"
             ],
             [
              0.1111111111111111,
              "#46039f"
             ],
             [
              0.2222222222222222,
              "#7201a8"
             ],
             [
              0.3333333333333333,
              "#9c179e"
             ],
             [
              0.4444444444444444,
              "#bd3786"
             ],
             [
              0.5555555555555556,
              "#d8576b"
             ],
             [
              0.6666666666666666,
              "#ed7953"
             ],
             [
              0.7777777777777778,
              "#fb9f3a"
             ],
             [
              0.8888888888888888,
              "#fdca26"
             ],
             [
              1,
              "#f0f921"
             ]
            ],
            "type": "surface"
           }
          ],
          "table": [
           {
            "cells": {
             "fill": {
              "color": "#EBF0F8"
             },
             "line": {
              "color": "white"
             }
            },
            "header": {
             "fill": {
              "color": "#C8D4E3"
             },
             "line": {
              "color": "white"
             }
            },
            "type": "table"
           }
          ]
         },
         "layout": {
          "annotationdefaults": {
           "arrowcolor": "#2a3f5f",
           "arrowhead": 0,
           "arrowwidth": 1
          },
          "autotypenumbers": "strict",
          "coloraxis": {
           "colorbar": {
            "outlinewidth": 0,
            "ticks": ""
           }
          },
          "colorscale": {
           "diverging": [
            [
             0,
             "#8e0152"
            ],
            [
             0.1,
             "#c51b7d"
            ],
            [
             0.2,
             "#de77ae"
            ],
            [
             0.3,
             "#f1b6da"
            ],
            [
             0.4,
             "#fde0ef"
            ],
            [
             0.5,
             "#f7f7f7"
            ],
            [
             0.6,
             "#e6f5d0"
            ],
            [
             0.7,
             "#b8e186"
            ],
            [
             0.8,
             "#7fbc41"
            ],
            [
             0.9,
             "#4d9221"
            ],
            [
             1,
             "#276419"
            ]
           ],
           "sequential": [
            [
             0,
             "#0d0887"
            ],
            [
             0.1111111111111111,
             "#46039f"
            ],
            [
             0.2222222222222222,
             "#7201a8"
            ],
            [
             0.3333333333333333,
             "#9c179e"
            ],
            [
             0.4444444444444444,
             "#bd3786"
            ],
            [
             0.5555555555555556,
             "#d8576b"
            ],
            [
             0.6666666666666666,
             "#ed7953"
            ],
            [
             0.7777777777777778,
             "#fb9f3a"
            ],
            [
             0.8888888888888888,
             "#fdca26"
            ],
            [
             1,
             "#f0f921"
            ]
           ],
           "sequentialminus": [
            [
             0,
             "#0d0887"
            ],
            [
             0.1111111111111111,
             "#46039f"
            ],
            [
             0.2222222222222222,
             "#7201a8"
            ],
            [
             0.3333333333333333,
             "#9c179e"
            ],
            [
             0.4444444444444444,
             "#bd3786"
            ],
            [
             0.5555555555555556,
             "#d8576b"
            ],
            [
             0.6666666666666666,
             "#ed7953"
            ],
            [
             0.7777777777777778,
             "#fb9f3a"
            ],
            [
             0.8888888888888888,
             "#fdca26"
            ],
            [
             1,
             "#f0f921"
            ]
           ]
          },
          "colorway": [
           "#636efa",
           "#EF553B",
           "#00cc96",
           "#ab63fa",
           "#FFA15A",
           "#19d3f3",
           "#FF6692",
           "#B6E880",
           "#FF97FF",
           "#FECB52"
          ],
          "font": {
           "color": "#2a3f5f"
          },
          "geo": {
           "bgcolor": "white",
           "lakecolor": "white",
           "landcolor": "#E5ECF6",
           "showlakes": true,
           "showland": true,
           "subunitcolor": "white"
          },
          "hoverlabel": {
           "align": "left"
          },
          "hovermode": "closest",
          "mapbox": {
           "style": "light"
          },
          "paper_bgcolor": "white",
          "plot_bgcolor": "#E5ECF6",
          "polar": {
           "angularaxis": {
            "gridcolor": "white",
            "linecolor": "white",
            "ticks": ""
           },
           "bgcolor": "#E5ECF6",
           "radialaxis": {
            "gridcolor": "white",
            "linecolor": "white",
            "ticks": ""
           }
          },
          "scene": {
           "xaxis": {
            "backgroundcolor": "#E5ECF6",
            "gridcolor": "white",
            "gridwidth": 2,
            "linecolor": "white",
            "showbackground": true,
            "ticks": "",
            "zerolinecolor": "white"
           },
           "yaxis": {
            "backgroundcolor": "#E5ECF6",
            "gridcolor": "white",
            "gridwidth": 2,
            "linecolor": "white",
            "showbackground": true,
            "ticks": "",
            "zerolinecolor": "white"
           },
           "zaxis": {
            "backgroundcolor": "#E5ECF6",
            "gridcolor": "white",
            "gridwidth": 2,
            "linecolor": "white",
            "showbackground": true,
            "ticks": "",
            "zerolinecolor": "white"
           }
          },
          "shapedefaults": {
           "line": {
            "color": "#2a3f5f"
           }
          },
          "ternary": {
           "aaxis": {
            "gridcolor": "white",
            "linecolor": "white",
            "ticks": ""
           },
           "baxis": {
            "gridcolor": "white",
            "linecolor": "white",
            "ticks": ""
           },
           "bgcolor": "#E5ECF6",
           "caxis": {
            "gridcolor": "white",
            "linecolor": "white",
            "ticks": ""
           }
          },
          "title": {
           "x": 0.05
          },
          "xaxis": {
           "automargin": true,
           "gridcolor": "white",
           "linecolor": "white",
           "ticks": "",
           "title": {
            "standoff": 15
           },
           "zerolinecolor": "white",
           "zerolinewidth": 2
          },
          "yaxis": {
           "automargin": true,
           "gridcolor": "white",
           "linecolor": "white",
           "ticks": "",
           "title": {
            "standoff": 15
           },
           "zerolinecolor": "white",
           "zerolinewidth": 2
          }
         }
        },
        "title": {
         "text": "Clientes abaixo dos 30 anos gastam menos com produtos do iFood do que as outras faixas etárias.",
         "x": 0.5
        },
        "xaxis": {
         "anchor": "y",
         "domain": [
          0,
          1
         ],
         "title": {
          "text": "Faixa-Etaria"
         }
        },
        "yaxis": {
         "anchor": "x",
         "domain": [
          0,
          1
         ],
         "tickformat": ",.0f",
         "tickprefix": "R$ ",
         "title": {
          "text": "SUM de Gasto-Cliente"
         }
        }
       }
      }
     },
     "metadata": {},
     "output_type": "display_data"
    }
   ],
   "source": [
    "# Hipótese 1. Clientes abaixo dos 30 anos gastam mais com produtos do iFood do que as outras\n",
    "# faixas etárias.\n",
    "\n",
    "gasto_etario = pd.pivot_table(\n",
    "    df,\n",
    "    index='Faixa-Etaria',\n",
    "    values='Gasto-Cliente',\n",
    "    aggfunc='sum'\n",
    ").reset_index()\n",
    "\n",
    "gasto_etario['Percentual'] = (gasto_etario['Gasto-Cliente'] / gasto_etario['Gasto-Cliente'].sum()) * 100\n",
    "\n",
    "gasto_etario['Percentual'] = gasto_etario['Percentual'].apply(lambda x: f\"{x:.2f}%\")\n",
    "\n",
    "fig = px.bar(\n",
    "    gasto_etario,\n",
    "    x='Faixa-Etaria',\n",
    "    y='Gasto-Cliente',\n",
    "    text=gasto_etario['Gasto-Cliente'].apply(lambda x: f\"R$ {x:,.2f}\".replace(\",\", \"X\").replace(\".\", \",\").replace(\"X\", \".\")),\n",
    "    color_discrete_sequence=['royalblue']\n",
    ")\n",
    "\n",
    "fig.update_layout(\n",
    "    title={\n",
    "        'text': 'Clientes abaixo dos 30 anos gastam menos com produtos do iFood do que as outras faixas etárias.',\n",
    "        'x': 0.5\n",
    "    },\n",
    "    xaxis_title='Faixa-Etaria',\n",
    "    yaxis_title='SUM de Gasto-Cliente',\n",
    "    yaxis_tickprefix='R$ ',\n",
    "    yaxis_tickformat=',.0f',\n",
    "    plot_bgcolor='white',\n",
    "    showlegend=False\n",
    ")\n",
    "\n",
    "fig.show()"
   ]
  },
  {
   "cell_type": "code",
   "execution_count": 6,
   "id": "ee329702",
   "metadata": {},
   "outputs": [
    {
     "data": {
      "application/vnd.plotly.v1+json": {
       "config": {
        "plotlyServerURL": "https://plot.ly"
       },
       "data": [
        {
         "hovertemplate": "Estado_Civil=%{x}<br>Gasto-Cliente=%{y}<br>text=%{text}<extra></extra>",
         "legendgroup": "",
         "marker": {
          "color": "royalblue",
          "pattern": {
           "shape": ""
          }
         },
         "name": "",
         "orientation": "v",
         "showlegend": false,
         "text": [
          "R$ 271.544,00",
          "R$ 320.551,00",
          "R$ 466.839,00",
          "R$ 130.882,00",
          "R$ 51.080,00"
         ],
         "textposition": "auto",
         "type": "bar",
         "x": [
          "Solteiro",
          "Namorando",
          "Casado",
          "Divorciado",
          "Viúvo(a)"
         ],
         "xaxis": "x",
         "y": {
          "bdata": "uCQEACfkBACXHwcAQv8BAIjHAAA=",
          "dtype": "i4"
         },
         "yaxis": "y"
        }
       ],
       "layout": {
        "barmode": "relative",
        "legend": {
         "tracegroupgap": 0
        },
        "margin": {
         "t": 60
        },
        "plot_bgcolor": "white",
        "showlegend": false,
        "template": {
         "data": {
          "bar": [
           {
            "error_x": {
             "color": "#2a3f5f"
            },
            "error_y": {
             "color": "#2a3f5f"
            },
            "marker": {
             "line": {
              "color": "#E5ECF6",
              "width": 0.5
             },
             "pattern": {
              "fillmode": "overlay",
              "size": 10,
              "solidity": 0.2
             }
            },
            "type": "bar"
           }
          ],
          "barpolar": [
           {
            "marker": {
             "line": {
              "color": "#E5ECF6",
              "width": 0.5
             },
             "pattern": {
              "fillmode": "overlay",
              "size": 10,
              "solidity": 0.2
             }
            },
            "type": "barpolar"
           }
          ],
          "carpet": [
           {
            "aaxis": {
             "endlinecolor": "#2a3f5f",
             "gridcolor": "white",
             "linecolor": "white",
             "minorgridcolor": "white",
             "startlinecolor": "#2a3f5f"
            },
            "baxis": {
             "endlinecolor": "#2a3f5f",
             "gridcolor": "white",
             "linecolor": "white",
             "minorgridcolor": "white",
             "startlinecolor": "#2a3f5f"
            },
            "type": "carpet"
           }
          ],
          "choropleth": [
           {
            "colorbar": {
             "outlinewidth": 0,
             "ticks": ""
            },
            "type": "choropleth"
           }
          ],
          "contour": [
           {
            "colorbar": {
             "outlinewidth": 0,
             "ticks": ""
            },
            "colorscale": [
             [
              0,
              "#0d0887"
             ],
             [
              0.1111111111111111,
              "#46039f"
             ],
             [
              0.2222222222222222,
              "#7201a8"
             ],
             [
              0.3333333333333333,
              "#9c179e"
             ],
             [
              0.4444444444444444,
              "#bd3786"
             ],
             [
              0.5555555555555556,
              "#d8576b"
             ],
             [
              0.6666666666666666,
              "#ed7953"
             ],
             [
              0.7777777777777778,
              "#fb9f3a"
             ],
             [
              0.8888888888888888,
              "#fdca26"
             ],
             [
              1,
              "#f0f921"
             ]
            ],
            "type": "contour"
           }
          ],
          "contourcarpet": [
           {
            "colorbar": {
             "outlinewidth": 0,
             "ticks": ""
            },
            "type": "contourcarpet"
           }
          ],
          "heatmap": [
           {
            "colorbar": {
             "outlinewidth": 0,
             "ticks": ""
            },
            "colorscale": [
             [
              0,
              "#0d0887"
             ],
             [
              0.1111111111111111,
              "#46039f"
             ],
             [
              0.2222222222222222,
              "#7201a8"
             ],
             [
              0.3333333333333333,
              "#9c179e"
             ],
             [
              0.4444444444444444,
              "#bd3786"
             ],
             [
              0.5555555555555556,
              "#d8576b"
             ],
             [
              0.6666666666666666,
              "#ed7953"
             ],
             [
              0.7777777777777778,
              "#fb9f3a"
             ],
             [
              0.8888888888888888,
              "#fdca26"
             ],
             [
              1,
              "#f0f921"
             ]
            ],
            "type": "heatmap"
           }
          ],
          "histogram": [
           {
            "marker": {
             "pattern": {
              "fillmode": "overlay",
              "size": 10,
              "solidity": 0.2
             }
            },
            "type": "histogram"
           }
          ],
          "histogram2d": [
           {
            "colorbar": {
             "outlinewidth": 0,
             "ticks": ""
            },
            "colorscale": [
             [
              0,
              "#0d0887"
             ],
             [
              0.1111111111111111,
              "#46039f"
             ],
             [
              0.2222222222222222,
              "#7201a8"
             ],
             [
              0.3333333333333333,
              "#9c179e"
             ],
             [
              0.4444444444444444,
              "#bd3786"
             ],
             [
              0.5555555555555556,
              "#d8576b"
             ],
             [
              0.6666666666666666,
              "#ed7953"
             ],
             [
              0.7777777777777778,
              "#fb9f3a"
             ],
             [
              0.8888888888888888,
              "#fdca26"
             ],
             [
              1,
              "#f0f921"
             ]
            ],
            "type": "histogram2d"
           }
          ],
          "histogram2dcontour": [
           {
            "colorbar": {
             "outlinewidth": 0,
             "ticks": ""
            },
            "colorscale": [
             [
              0,
              "#0d0887"
             ],
             [
              0.1111111111111111,
              "#46039f"
             ],
             [
              0.2222222222222222,
              "#7201a8"
             ],
             [
              0.3333333333333333,
              "#9c179e"
             ],
             [
              0.4444444444444444,
              "#bd3786"
             ],
             [
              0.5555555555555556,
              "#d8576b"
             ],
             [
              0.6666666666666666,
              "#ed7953"
             ],
             [
              0.7777777777777778,
              "#fb9f3a"
             ],
             [
              0.8888888888888888,
              "#fdca26"
             ],
             [
              1,
              "#f0f921"
             ]
            ],
            "type": "histogram2dcontour"
           }
          ],
          "mesh3d": [
           {
            "colorbar": {
             "outlinewidth": 0,
             "ticks": ""
            },
            "type": "mesh3d"
           }
          ],
          "parcoords": [
           {
            "line": {
             "colorbar": {
              "outlinewidth": 0,
              "ticks": ""
             }
            },
            "type": "parcoords"
           }
          ],
          "pie": [
           {
            "automargin": true,
            "type": "pie"
           }
          ],
          "scatter": [
           {
            "fillpattern": {
             "fillmode": "overlay",
             "size": 10,
             "solidity": 0.2
            },
            "type": "scatter"
           }
          ],
          "scatter3d": [
           {
            "line": {
             "colorbar": {
              "outlinewidth": 0,
              "ticks": ""
             }
            },
            "marker": {
             "colorbar": {
              "outlinewidth": 0,
              "ticks": ""
             }
            },
            "type": "scatter3d"
           }
          ],
          "scattercarpet": [
           {
            "marker": {
             "colorbar": {
              "outlinewidth": 0,
              "ticks": ""
             }
            },
            "type": "scattercarpet"
           }
          ],
          "scattergeo": [
           {
            "marker": {
             "colorbar": {
              "outlinewidth": 0,
              "ticks": ""
             }
            },
            "type": "scattergeo"
           }
          ],
          "scattergl": [
           {
            "marker": {
             "colorbar": {
              "outlinewidth": 0,
              "ticks": ""
             }
            },
            "type": "scattergl"
           }
          ],
          "scattermap": [
           {
            "marker": {
             "colorbar": {
              "outlinewidth": 0,
              "ticks": ""
             }
            },
            "type": "scattermap"
           }
          ],
          "scattermapbox": [
           {
            "marker": {
             "colorbar": {
              "outlinewidth": 0,
              "ticks": ""
             }
            },
            "type": "scattermapbox"
           }
          ],
          "scatterpolar": [
           {
            "marker": {
             "colorbar": {
              "outlinewidth": 0,
              "ticks": ""
             }
            },
            "type": "scatterpolar"
           }
          ],
          "scatterpolargl": [
           {
            "marker": {
             "colorbar": {
              "outlinewidth": 0,
              "ticks": ""
             }
            },
            "type": "scatterpolargl"
           }
          ],
          "scatterternary": [
           {
            "marker": {
             "colorbar": {
              "outlinewidth": 0,
              "ticks": ""
             }
            },
            "type": "scatterternary"
           }
          ],
          "surface": [
           {
            "colorbar": {
             "outlinewidth": 0,
             "ticks": ""
            },
            "colorscale": [
             [
              0,
              "#0d0887"
             ],
             [
              0.1111111111111111,
              "#46039f"
             ],
             [
              0.2222222222222222,
              "#7201a8"
             ],
             [
              0.3333333333333333,
              "#9c179e"
             ],
             [
              0.4444444444444444,
              "#bd3786"
             ],
             [
              0.5555555555555556,
              "#d8576b"
             ],
             [
              0.6666666666666666,
              "#ed7953"
             ],
             [
              0.7777777777777778,
              "#fb9f3a"
             ],
             [
              0.8888888888888888,
              "#fdca26"
             ],
             [
              1,
              "#f0f921"
             ]
            ],
            "type": "surface"
           }
          ],
          "table": [
           {
            "cells": {
             "fill": {
              "color": "#EBF0F8"
             },
             "line": {
              "color": "white"
             }
            },
            "header": {
             "fill": {
              "color": "#C8D4E3"
             },
             "line": {
              "color": "white"
             }
            },
            "type": "table"
           }
          ]
         },
         "layout": {
          "annotationdefaults": {
           "arrowcolor": "#2a3f5f",
           "arrowhead": 0,
           "arrowwidth": 1
          },
          "autotypenumbers": "strict",
          "coloraxis": {
           "colorbar": {
            "outlinewidth": 0,
            "ticks": ""
           }
          },
          "colorscale": {
           "diverging": [
            [
             0,
             "#8e0152"
            ],
            [
             0.1,
             "#c51b7d"
            ],
            [
             0.2,
             "#de77ae"
            ],
            [
             0.3,
             "#f1b6da"
            ],
            [
             0.4,
             "#fde0ef"
            ],
            [
             0.5,
             "#f7f7f7"
            ],
            [
             0.6,
             "#e6f5d0"
            ],
            [
             0.7,
             "#b8e186"
            ],
            [
             0.8,
             "#7fbc41"
            ],
            [
             0.9,
             "#4d9221"
            ],
            [
             1,
             "#276419"
            ]
           ],
           "sequential": [
            [
             0,
             "#0d0887"
            ],
            [
             0.1111111111111111,
             "#46039f"
            ],
            [
             0.2222222222222222,
             "#7201a8"
            ],
            [
             0.3333333333333333,
             "#9c179e"
            ],
            [
             0.4444444444444444,
             "#bd3786"
            ],
            [
             0.5555555555555556,
             "#d8576b"
            ],
            [
             0.6666666666666666,
             "#ed7953"
            ],
            [
             0.7777777777777778,
             "#fb9f3a"
            ],
            [
             0.8888888888888888,
             "#fdca26"
            ],
            [
             1,
             "#f0f921"
            ]
           ],
           "sequentialminus": [
            [
             0,
             "#0d0887"
            ],
            [
             0.1111111111111111,
             "#46039f"
            ],
            [
             0.2222222222222222,
             "#7201a8"
            ],
            [
             0.3333333333333333,
             "#9c179e"
            ],
            [
             0.4444444444444444,
             "#bd3786"
            ],
            [
             0.5555555555555556,
             "#d8576b"
            ],
            [
             0.6666666666666666,
             "#ed7953"
            ],
            [
             0.7777777777777778,
             "#fb9f3a"
            ],
            [
             0.8888888888888888,
             "#fdca26"
            ],
            [
             1,
             "#f0f921"
            ]
           ]
          },
          "colorway": [
           "#636efa",
           "#EF553B",
           "#00cc96",
           "#ab63fa",
           "#FFA15A",
           "#19d3f3",
           "#FF6692",
           "#B6E880",
           "#FF97FF",
           "#FECB52"
          ],
          "font": {
           "color": "#2a3f5f"
          },
          "geo": {
           "bgcolor": "white",
           "lakecolor": "white",
           "landcolor": "#E5ECF6",
           "showlakes": true,
           "showland": true,
           "subunitcolor": "white"
          },
          "hoverlabel": {
           "align": "left"
          },
          "hovermode": "closest",
          "mapbox": {
           "style": "light"
          },
          "paper_bgcolor": "white",
          "plot_bgcolor": "#E5ECF6",
          "polar": {
           "angularaxis": {
            "gridcolor": "white",
            "linecolor": "white",
            "ticks": ""
           },
           "bgcolor": "#E5ECF6",
           "radialaxis": {
            "gridcolor": "white",
            "linecolor": "white",
            "ticks": ""
           }
          },
          "scene": {
           "xaxis": {
            "backgroundcolor": "#E5ECF6",
            "gridcolor": "white",
            "gridwidth": 2,
            "linecolor": "white",
            "showbackground": true,
            "ticks": "",
            "zerolinecolor": "white"
           },
           "yaxis": {
            "backgroundcolor": "#E5ECF6",
            "gridcolor": "white",
            "gridwidth": 2,
            "linecolor": "white",
            "showbackground": true,
            "ticks": "",
            "zerolinecolor": "white"
           },
           "zaxis": {
            "backgroundcolor": "#E5ECF6",
            "gridcolor": "white",
            "gridwidth": 2,
            "linecolor": "white",
            "showbackground": true,
            "ticks": "",
            "zerolinecolor": "white"
           }
          },
          "shapedefaults": {
           "line": {
            "color": "#2a3f5f"
           }
          },
          "ternary": {
           "aaxis": {
            "gridcolor": "white",
            "linecolor": "white",
            "ticks": ""
           },
           "baxis": {
            "gridcolor": "white",
            "linecolor": "white",
            "ticks": ""
           },
           "bgcolor": "#E5ECF6",
           "caxis": {
            "gridcolor": "white",
            "linecolor": "white",
            "ticks": ""
           }
          },
          "title": {
           "x": 0.05
          },
          "xaxis": {
           "automargin": true,
           "gridcolor": "white",
           "linecolor": "white",
           "ticks": "",
           "title": {
            "standoff": 15
           },
           "zerolinecolor": "white",
           "zerolinewidth": 2
          },
          "yaxis": {
           "automargin": true,
           "gridcolor": "white",
           "linecolor": "white",
           "ticks": "",
           "title": {
            "standoff": 15
           },
           "zerolinecolor": "white",
           "zerolinewidth": 2
          }
         }
        },
        "title": {
         "text": "Clientes solteiros gastam menos do que os outros segmentos de clientes.",
         "x": 0.5
        },
        "xaxis": {
         "anchor": "y",
         "domain": [
          0,
          1
         ],
         "title": {
          "text": "Estado Civil"
         }
        },
        "yaxis": {
         "anchor": "x",
         "domain": [
          0,
          1
         ],
         "tickformat": ",.0f",
         "tickprefix": "R$ ",
         "title": {
          "text": "SUM de Gasto-Cliente"
         }
        }
       }
      }
     },
     "metadata": {},
     "output_type": "display_data"
    }
   ],
   "source": [
    "# Hipótese 2. Clientes solteiros gastam menos do que os outros segmentos de clientes.\n",
    "\n",
    "gasto_civil = pd.pivot_table(\n",
    "    df,\n",
    "    index='Estado_Civil',\n",
    "    values='Gasto-Cliente',\n",
    "    aggfunc='sum'\n",
    ").reset_index()\n",
    "\n",
    "gasto_civil['Percentual'] = (gasto_civil['Gasto-Cliente'] / gasto_civil['Gasto-Cliente'].sum()) * 100\n",
    "\n",
    "gasto_civil['Percentual'] = gasto_civil['Percentual'].apply(lambda x: f\"{x:.2f}%\")\n",
    "\n",
    "gasto_civil['Estado_Civil'] = pd.Categorical(\n",
    "    gasto_civil['Estado_Civil'],\n",
    "    categories=['Solteiro', 'Namorando', 'Casado', 'Divorciado', 'Viúvo(a)', 'Total'],\n",
    "    ordered=True\n",
    ")\n",
    "\n",
    "gasto_civil = gasto_civil.sort_values('Estado_Civil')\n",
    "\n",
    "fig = px.bar(\n",
    "    gasto_civil,\n",
    "    x='Estado_Civil',\n",
    "    y='Gasto-Cliente',\n",
    "    text=gasto_civil['Gasto-Cliente'].apply(lambda x: f\"R$ {x:,.2f}\".replace(\",\", \"X\").replace(\".\", \",\").replace(\"X\", \".\")),\n",
    "    color_discrete_sequence=['royalblue']\n",
    ")\n",
    "\n",
    "fig.update_layout(\n",
    "    title={\n",
    "        'text': 'Clientes solteiros gastam menos do que os outros segmentos de clientes.',\n",
    "        'x': 0.5\n",
    "    },\n",
    "    xaxis_title='Estado Civil',\n",
    "    yaxis_title='SUM de Gasto-Cliente',\n",
    "    yaxis_tickprefix='R$ ',\n",
    "    yaxis_tickformat=',.0f',\n",
    "    plot_bgcolor='white',\n",
    "    showlegend=False\n",
    ")\n",
    "\n",
    "fig.show()"
   ]
  },
  {
   "cell_type": "code",
   "execution_count": 7,
   "id": "e9984bd6",
   "metadata": {},
   "outputs": [
    {
     "name": "stderr",
     "output_type": "stream",
     "text": [
      "C:\\Users\\pedro\\AppData\\Local\\Temp\\ipykernel_2332\\2250811126.py:4: FutureWarning:\n",
      "\n",
      "The default value of observed=False is deprecated and will change to observed=True in a future version of pandas. Specify observed=False to silence this warning and retain the current behavior\n",
      "\n"
     ]
    },
    {
     "data": {
      "application/vnd.plotly.v1+json": {
       "config": {
        "plotlyServerURL": "https://plot.ly"
       },
       "data": [
        {
         "alignmentgroup": "True",
         "hovertemplate": "Estado_Civil=Solteiro<br>Faixa-Etaria=%{x}<br>Gasto-Cliente=%{y}<extra></extra>",
         "legendgroup": "Solteiro",
         "marker": {
          "color": "rgb(102,194,165)",
          "pattern": {
           "shape": ""
          }
         },
         "name": "Solteiro",
         "offsetgroup": "Solteiro",
         "orientation": "v",
         "showlegend": true,
         "textposition": "auto",
         "type": "bar",
         "x": [
          "21-30",
          "31-40",
          "41-50",
          "51-60",
          "61-70",
          "71-80"
         ],
         "xaxis": "x",
         "y": {
          "bdata": "GXoAADnAAABAAgEAduIAADfXAAB5LgAA",
          "dtype": "i4"
         },
         "yaxis": "y"
        },
        {
         "alignmentgroup": "True",
         "hovertemplate": "Estado_Civil=Namorando<br>Faixa-Etaria=%{x}<br>Gasto-Cliente=%{y}<extra></extra>",
         "legendgroup": "Namorando",
         "marker": {
          "color": "rgb(252,141,98)",
          "pattern": {
           "shape": ""
          }
         },
         "name": "Namorando",
         "offsetgroup": "Namorando",
         "orientation": "v",
         "showlegend": true,
         "textposition": "auto",
         "type": "bar",
         "x": [
          "21-30",
          "31-40",
          "41-50",
          "51-60",
          "61-70",
          "71-80"
         ],
         "xaxis": "x",
         "y": {
          "bdata": "PSMAALekAAAdaQEAGRkBADQxAQDJaAAA",
          "dtype": "i4"
         },
         "yaxis": "y"
        },
        {
         "alignmentgroup": "True",
         "hovertemplate": "Estado_Civil=Casado<br>Faixa-Etaria=%{x}<br>Gasto-Cliente=%{y}<extra></extra>",
         "legendgroup": "Casado",
         "marker": {
          "color": "rgb(141,160,203)",
          "pattern": {
           "shape": ""
          }
         },
         "name": "Casado",
         "offsetgroup": "Casado",
         "orientation": "v",
         "showlegend": true,
         "textposition": "auto",
         "type": "bar",
         "x": [
          "21-30",
          "31-40",
          "41-50",
          "51-60",
          "61-70",
          "71-80"
         ],
         "xaxis": "x",
         "y": {
          "bdata": "txUAANQfAQCCQAIAzogBAJmMAQAjlAAA",
          "dtype": "i4"
         },
         "yaxis": "y"
        },
        {
         "alignmentgroup": "True",
         "hovertemplate": "Estado_Civil=Divorciado<br>Faixa-Etaria=%{x}<br>Gasto-Cliente=%{y}<extra></extra>",
         "legendgroup": "Divorciado",
         "marker": {
          "color": "rgb(231,138,195)",
          "pattern": {
           "shape": ""
          }
         },
         "name": "Divorciado",
         "offsetgroup": "Divorciado",
         "orientation": "v",
         "showlegend": true,
         "textposition": "auto",
         "type": "bar",
         "x": [
          "21-30",
          "31-40",
          "41-50",
          "51-60",
          "61-70",
          "71-80"
         ],
         "xaxis": "x",
         "y": {
          "bdata": "AAAAAIQnAADAmQAARq4AADeDAACBDAAA",
          "dtype": "i4"
         },
         "yaxis": "y"
        },
        {
         "alignmentgroup": "True",
         "hovertemplate": "Estado_Civil=Viúvo(a)<br>Faixa-Etaria=%{x}<br>Gasto-Cliente=%{y}<extra></extra>",
         "legendgroup": "Viúvo(a)",
         "marker": {
          "color": "rgb(166,216,84)",
          "pattern": {
           "shape": ""
          }
         },
         "name": "Viúvo(a)",
         "offsetgroup": "Viúvo(a)",
         "orientation": "v",
         "showlegend": true,
         "textposition": "auto",
         "type": "bar",
         "x": [
          "21-30",
          "31-40",
          "41-50",
          "51-60",
          "61-70",
          "71-80"
         ],
         "xaxis": "x",
         "y": {
          "bdata": "AAAAAN8TNTwuQkY1",
          "dtype": "i2"
         },
         "yaxis": "y"
        }
       ],
       "layout": {
        "bargap": 0.15,
        "barmode": "group",
        "legend": {
         "title": {
          "text": "Estado_Civil"
         },
         "tracegroupgap": 0
        },
        "margin": {
         "t": 60
        },
        "plot_bgcolor": "white",
        "template": {
         "data": {
          "bar": [
           {
            "error_x": {
             "color": "#2a3f5f"
            },
            "error_y": {
             "color": "#2a3f5f"
            },
            "marker": {
             "line": {
              "color": "#E5ECF6",
              "width": 0.5
             },
             "pattern": {
              "fillmode": "overlay",
              "size": 10,
              "solidity": 0.2
             }
            },
            "type": "bar"
           }
          ],
          "barpolar": [
           {
            "marker": {
             "line": {
              "color": "#E5ECF6",
              "width": 0.5
             },
             "pattern": {
              "fillmode": "overlay",
              "size": 10,
              "solidity": 0.2
             }
            },
            "type": "barpolar"
           }
          ],
          "carpet": [
           {
            "aaxis": {
             "endlinecolor": "#2a3f5f",
             "gridcolor": "white",
             "linecolor": "white",
             "minorgridcolor": "white",
             "startlinecolor": "#2a3f5f"
            },
            "baxis": {
             "endlinecolor": "#2a3f5f",
             "gridcolor": "white",
             "linecolor": "white",
             "minorgridcolor": "white",
             "startlinecolor": "#2a3f5f"
            },
            "type": "carpet"
           }
          ],
          "choropleth": [
           {
            "colorbar": {
             "outlinewidth": 0,
             "ticks": ""
            },
            "type": "choropleth"
           }
          ],
          "contour": [
           {
            "colorbar": {
             "outlinewidth": 0,
             "ticks": ""
            },
            "colorscale": [
             [
              0,
              "#0d0887"
             ],
             [
              0.1111111111111111,
              "#46039f"
             ],
             [
              0.2222222222222222,
              "#7201a8"
             ],
             [
              0.3333333333333333,
              "#9c179e"
             ],
             [
              0.4444444444444444,
              "#bd3786"
             ],
             [
              0.5555555555555556,
              "#d8576b"
             ],
             [
              0.6666666666666666,
              "#ed7953"
             ],
             [
              0.7777777777777778,
              "#fb9f3a"
             ],
             [
              0.8888888888888888,
              "#fdca26"
             ],
             [
              1,
              "#f0f921"
             ]
            ],
            "type": "contour"
           }
          ],
          "contourcarpet": [
           {
            "colorbar": {
             "outlinewidth": 0,
             "ticks": ""
            },
            "type": "contourcarpet"
           }
          ],
          "heatmap": [
           {
            "colorbar": {
             "outlinewidth": 0,
             "ticks": ""
            },
            "colorscale": [
             [
              0,
              "#0d0887"
             ],
             [
              0.1111111111111111,
              "#46039f"
             ],
             [
              0.2222222222222222,
              "#7201a8"
             ],
             [
              0.3333333333333333,
              "#9c179e"
             ],
             [
              0.4444444444444444,
              "#bd3786"
             ],
             [
              0.5555555555555556,
              "#d8576b"
             ],
             [
              0.6666666666666666,
              "#ed7953"
             ],
             [
              0.7777777777777778,
              "#fb9f3a"
             ],
             [
              0.8888888888888888,
              "#fdca26"
             ],
             [
              1,
              "#f0f921"
             ]
            ],
            "type": "heatmap"
           }
          ],
          "histogram": [
           {
            "marker": {
             "pattern": {
              "fillmode": "overlay",
              "size": 10,
              "solidity": 0.2
             }
            },
            "type": "histogram"
           }
          ],
          "histogram2d": [
           {
            "colorbar": {
             "outlinewidth": 0,
             "ticks": ""
            },
            "colorscale": [
             [
              0,
              "#0d0887"
             ],
             [
              0.1111111111111111,
              "#46039f"
             ],
             [
              0.2222222222222222,
              "#7201a8"
             ],
             [
              0.3333333333333333,
              "#9c179e"
             ],
             [
              0.4444444444444444,
              "#bd3786"
             ],
             [
              0.5555555555555556,
              "#d8576b"
             ],
             [
              0.6666666666666666,
              "#ed7953"
             ],
             [
              0.7777777777777778,
              "#fb9f3a"
             ],
             [
              0.8888888888888888,
              "#fdca26"
             ],
             [
              1,
              "#f0f921"
             ]
            ],
            "type": "histogram2d"
           }
          ],
          "histogram2dcontour": [
           {
            "colorbar": {
             "outlinewidth": 0,
             "ticks": ""
            },
            "colorscale": [
             [
              0,
              "#0d0887"
             ],
             [
              0.1111111111111111,
              "#46039f"
             ],
             [
              0.2222222222222222,
              "#7201a8"
             ],
             [
              0.3333333333333333,
              "#9c179e"
             ],
             [
              0.4444444444444444,
              "#bd3786"
             ],
             [
              0.5555555555555556,
              "#d8576b"
             ],
             [
              0.6666666666666666,
              "#ed7953"
             ],
             [
              0.7777777777777778,
              "#fb9f3a"
             ],
             [
              0.8888888888888888,
              "#fdca26"
             ],
             [
              1,
              "#f0f921"
             ]
            ],
            "type": "histogram2dcontour"
           }
          ],
          "mesh3d": [
           {
            "colorbar": {
             "outlinewidth": 0,
             "ticks": ""
            },
            "type": "mesh3d"
           }
          ],
          "parcoords": [
           {
            "line": {
             "colorbar": {
              "outlinewidth": 0,
              "ticks": ""
             }
            },
            "type": "parcoords"
           }
          ],
          "pie": [
           {
            "automargin": true,
            "type": "pie"
           }
          ],
          "scatter": [
           {
            "fillpattern": {
             "fillmode": "overlay",
             "size": 10,
             "solidity": 0.2
            },
            "type": "scatter"
           }
          ],
          "scatter3d": [
           {
            "line": {
             "colorbar": {
              "outlinewidth": 0,
              "ticks": ""
             }
            },
            "marker": {
             "colorbar": {
              "outlinewidth": 0,
              "ticks": ""
             }
            },
            "type": "scatter3d"
           }
          ],
          "scattercarpet": [
           {
            "marker": {
             "colorbar": {
              "outlinewidth": 0,
              "ticks": ""
             }
            },
            "type": "scattercarpet"
           }
          ],
          "scattergeo": [
           {
            "marker": {
             "colorbar": {
              "outlinewidth": 0,
              "ticks": ""
             }
            },
            "type": "scattergeo"
           }
          ],
          "scattergl": [
           {
            "marker": {
             "colorbar": {
              "outlinewidth": 0,
              "ticks": ""
             }
            },
            "type": "scattergl"
           }
          ],
          "scattermap": [
           {
            "marker": {
             "colorbar": {
              "outlinewidth": 0,
              "ticks": ""
             }
            },
            "type": "scattermap"
           }
          ],
          "scattermapbox": [
           {
            "marker": {
             "colorbar": {
              "outlinewidth": 0,
              "ticks": ""
             }
            },
            "type": "scattermapbox"
           }
          ],
          "scatterpolar": [
           {
            "marker": {
             "colorbar": {
              "outlinewidth": 0,
              "ticks": ""
             }
            },
            "type": "scatterpolar"
           }
          ],
          "scatterpolargl": [
           {
            "marker": {
             "colorbar": {
              "outlinewidth": 0,
              "ticks": ""
             }
            },
            "type": "scatterpolargl"
           }
          ],
          "scatterternary": [
           {
            "marker": {
             "colorbar": {
              "outlinewidth": 0,
              "ticks": ""
             }
            },
            "type": "scatterternary"
           }
          ],
          "surface": [
           {
            "colorbar": {
             "outlinewidth": 0,
             "ticks": ""
            },
            "colorscale": [
             [
              0,
              "#0d0887"
             ],
             [
              0.1111111111111111,
              "#46039f"
             ],
             [
              0.2222222222222222,
              "#7201a8"
             ],
             [
              0.3333333333333333,
              "#9c179e"
             ],
             [
              0.4444444444444444,
              "#bd3786"
             ],
             [
              0.5555555555555556,
              "#d8576b"
             ],
             [
              0.6666666666666666,
              "#ed7953"
             ],
             [
              0.7777777777777778,
              "#fb9f3a"
             ],
             [
              0.8888888888888888,
              "#fdca26"
             ],
             [
              1,
              "#f0f921"
             ]
            ],
            "type": "surface"
           }
          ],
          "table": [
           {
            "cells": {
             "fill": {
              "color": "#EBF0F8"
             },
             "line": {
              "color": "white"
             }
            },
            "header": {
             "fill": {
              "color": "#C8D4E3"
             },
             "line": {
              "color": "white"
             }
            },
            "type": "table"
           }
          ]
         },
         "layout": {
          "annotationdefaults": {
           "arrowcolor": "#2a3f5f",
           "arrowhead": 0,
           "arrowwidth": 1
          },
          "autotypenumbers": "strict",
          "coloraxis": {
           "colorbar": {
            "outlinewidth": 0,
            "ticks": ""
           }
          },
          "colorscale": {
           "diverging": [
            [
             0,
             "#8e0152"
            ],
            [
             0.1,
             "#c51b7d"
            ],
            [
             0.2,
             "#de77ae"
            ],
            [
             0.3,
             "#f1b6da"
            ],
            [
             0.4,
             "#fde0ef"
            ],
            [
             0.5,
             "#f7f7f7"
            ],
            [
             0.6,
             "#e6f5d0"
            ],
            [
             0.7,
             "#b8e186"
            ],
            [
             0.8,
             "#7fbc41"
            ],
            [
             0.9,
             "#4d9221"
            ],
            [
             1,
             "#276419"
            ]
           ],
           "sequential": [
            [
             0,
             "#0d0887"
            ],
            [
             0.1111111111111111,
             "#46039f"
            ],
            [
             0.2222222222222222,
             "#7201a8"
            ],
            [
             0.3333333333333333,
             "#9c179e"
            ],
            [
             0.4444444444444444,
             "#bd3786"
            ],
            [
             0.5555555555555556,
             "#d8576b"
            ],
            [
             0.6666666666666666,
             "#ed7953"
            ],
            [
             0.7777777777777778,
             "#fb9f3a"
            ],
            [
             0.8888888888888888,
             "#fdca26"
            ],
            [
             1,
             "#f0f921"
            ]
           ],
           "sequentialminus": [
            [
             0,
             "#0d0887"
            ],
            [
             0.1111111111111111,
             "#46039f"
            ],
            [
             0.2222222222222222,
             "#7201a8"
            ],
            [
             0.3333333333333333,
             "#9c179e"
            ],
            [
             0.4444444444444444,
             "#bd3786"
            ],
            [
             0.5555555555555556,
             "#d8576b"
            ],
            [
             0.6666666666666666,
             "#ed7953"
            ],
            [
             0.7777777777777778,
             "#fb9f3a"
            ],
            [
             0.8888888888888888,
             "#fdca26"
            ],
            [
             1,
             "#f0f921"
            ]
           ]
          },
          "colorway": [
           "#636efa",
           "#EF553B",
           "#00cc96",
           "#ab63fa",
           "#FFA15A",
           "#19d3f3",
           "#FF6692",
           "#B6E880",
           "#FF97FF",
           "#FECB52"
          ],
          "font": {
           "color": "#2a3f5f"
          },
          "geo": {
           "bgcolor": "white",
           "lakecolor": "white",
           "landcolor": "#E5ECF6",
           "showlakes": true,
           "showland": true,
           "subunitcolor": "white"
          },
          "hoverlabel": {
           "align": "left"
          },
          "hovermode": "closest",
          "mapbox": {
           "style": "light"
          },
          "paper_bgcolor": "white",
          "plot_bgcolor": "#E5ECF6",
          "polar": {
           "angularaxis": {
            "gridcolor": "white",
            "linecolor": "white",
            "ticks": ""
           },
           "bgcolor": "#E5ECF6",
           "radialaxis": {
            "gridcolor": "white",
            "linecolor": "white",
            "ticks": ""
           }
          },
          "scene": {
           "xaxis": {
            "backgroundcolor": "#E5ECF6",
            "gridcolor": "white",
            "gridwidth": 2,
            "linecolor": "white",
            "showbackground": true,
            "ticks": "",
            "zerolinecolor": "white"
           },
           "yaxis": {
            "backgroundcolor": "#E5ECF6",
            "gridcolor": "white",
            "gridwidth": 2,
            "linecolor": "white",
            "showbackground": true,
            "ticks": "",
            "zerolinecolor": "white"
           },
           "zaxis": {
            "backgroundcolor": "#E5ECF6",
            "gridcolor": "white",
            "gridwidth": 2,
            "linecolor": "white",
            "showbackground": true,
            "ticks": "",
            "zerolinecolor": "white"
           }
          },
          "shapedefaults": {
           "line": {
            "color": "#2a3f5f"
           }
          },
          "ternary": {
           "aaxis": {
            "gridcolor": "white",
            "linecolor": "white",
            "ticks": ""
           },
           "baxis": {
            "gridcolor": "white",
            "linecolor": "white",
            "ticks": ""
           },
           "bgcolor": "#E5ECF6",
           "caxis": {
            "gridcolor": "white",
            "linecolor": "white",
            "ticks": ""
           }
          },
          "title": {
           "x": 0.05
          },
          "xaxis": {
           "automargin": true,
           "gridcolor": "white",
           "linecolor": "white",
           "ticks": "",
           "title": {
            "standoff": 15
           },
           "zerolinecolor": "white",
           "zerolinewidth": 2
          },
          "yaxis": {
           "automargin": true,
           "gridcolor": "white",
           "linecolor": "white",
           "ticks": "",
           "title": {
            "standoff": 15
           },
           "zerolinecolor": "white",
           "zerolinewidth": 2
          }
         }
        },
        "title": {
         "text": "Clientes solteiros abaixo dos 30 anos gastam mais com produtos do iFood do que as outras faixas etárias.",
         "x": 0.5
        },
        "xaxis": {
         "anchor": "y",
         "domain": [
          0,
          1
         ],
         "title": {
          "text": "Faixa Etária"
         }
        },
        "yaxis": {
         "anchor": "x",
         "domain": [
          0,
          1
         ],
         "tickformat": ",.0f",
         "tickprefix": "R$ ",
         "title": {
          "text": "SUM de Gasto-Cliente"
         }
        }
       }
      }
     },
     "metadata": {},
     "output_type": "display_data"
    }
   ],
   "source": [
    "# Hipótese 3. Clientes solteiros abaixo dos 30 anos gastam mais com produtos do iFood\n",
    "# do que as outras faixas etárias.\n",
    "\n",
    "gasto_etario_civil = pd.pivot_table(\n",
    "    df,\n",
    "    index='Faixa-Etaria',\n",
    "    columns='Estado_Civil',\n",
    "    values='Gasto-Cliente',\n",
    "    aggfunc='sum'\n",
    ")\n",
    "\n",
    "gasto_etario_civil['Total'] = gasto_etario_civil.sum(axis=1)\n",
    "\n",
    "ordem = ['Solteiro', 'Namorando', 'Casado', 'Divorciado', 'Viúvo(a)', 'Total']\n",
    "\n",
    "gasto_etario_civil = gasto_etario_civil[ordem]\n",
    "\n",
    "gasto_etario_civil_reset = gasto_etario_civil.reset_index().melt(\n",
    "    id_vars='Faixa-Etaria',\n",
    "    var_name='Estado_Civil',\n",
    "    value_name='Gasto-Cliente'\n",
    ")\n",
    "\n",
    "# Remover Total\n",
    "gasto_etario_civil_reset = gasto_etario_civil_reset[gasto_etario_civil_reset['Estado_Civil'] != 'Total']\n",
    "\n",
    "# Criar o gráfico\n",
    "fig = px.bar(\n",
    "    gasto_etario_civil_reset,\n",
    "    x='Faixa-Etaria',\n",
    "    y='Gasto-Cliente',\n",
    "    color='Estado_Civil',\n",
    "    barmode='group',\n",
    "    color_discrete_sequence=px.colors.qualitative.Set2\n",
    ")\n",
    "\n",
    "fig.update_layout(\n",
    "    title={\n",
    "        'text': 'Clientes solteiros abaixo dos 30 anos gastam mais com produtos do iFood do que as outras faixas etárias.',\n",
    "        'x': 0.5\n",
    "    },\n",
    "    xaxis_title='Faixa Etária',\n",
    "    yaxis_title='SUM de Gasto-Cliente',\n",
    "    yaxis_tickprefix='R$ ',\n",
    "    yaxis_tickformat=',.0f',\n",
    "    plot_bgcolor='white',\n",
    "    bargap=0.15\n",
    ")\n",
    "\n",
    "fig.show()"
   ]
  },
  {
   "cell_type": "code",
   "execution_count": 8,
   "id": "3a40ba0b",
   "metadata": {},
   "outputs": [
    {
     "data": {
      "application/vnd.plotly.v1+json": {
       "config": {
        "plotlyServerURL": "https://plot.ly"
       },
       "data": [
        {
         "domain": {
          "x": [
           0,
           1
          ],
          "y": [
           0,
           1
          ]
         },
         "hovertemplate": "Crianças em Casa: %{label}<br>Gasto: R$ %{value:,.0f}<extra></extra>",
         "labels": {
          "bdata": "AAEC",
          "dtype": "i1"
         },
         "legendgroup": "",
         "name": "",
         "showlegend": true,
         "type": "pie",
         "values": {
          "bdata": "LmEQALV4AgBdFQAA",
          "dtype": "i4"
         }
        }
       ],
       "layout": {
        "annotations": [
         {
          "align": "center",
          "font": {
           "size": 12
          },
          "showarrow": false,
          "text": "Clientes sem filgos em casa representam 86% de todo o faturamento da campanha",
          "x": 0.5,
          "xref": "paper",
          "y": -0.15,
          "yref": "paper"
         }
        ],
        "legend": {
         "title": {
          "text": "Qtde de Crianças em Casa"
         },
         "tracegroupgap": 0
        },
        "margin": {
         "t": 60
        },
        "piecolorway": [
         "rgb(102,194,165)",
         "rgb(252,141,98)",
         "rgb(141,160,203)",
         "rgb(231,138,195)",
         "rgb(166,216,84)",
         "rgb(255,217,47)",
         "rgb(229,196,148)",
         "rgb(179,179,179)"
        ],
        "template": {
         "data": {
          "bar": [
           {
            "error_x": {
             "color": "#2a3f5f"
            },
            "error_y": {
             "color": "#2a3f5f"
            },
            "marker": {
             "line": {
              "color": "#E5ECF6",
              "width": 0.5
             },
             "pattern": {
              "fillmode": "overlay",
              "size": 10,
              "solidity": 0.2
             }
            },
            "type": "bar"
           }
          ],
          "barpolar": [
           {
            "marker": {
             "line": {
              "color": "#E5ECF6",
              "width": 0.5
             },
             "pattern": {
              "fillmode": "overlay",
              "size": 10,
              "solidity": 0.2
             }
            },
            "type": "barpolar"
           }
          ],
          "carpet": [
           {
            "aaxis": {
             "endlinecolor": "#2a3f5f",
             "gridcolor": "white",
             "linecolor": "white",
             "minorgridcolor": "white",
             "startlinecolor": "#2a3f5f"
            },
            "baxis": {
             "endlinecolor": "#2a3f5f",
             "gridcolor": "white",
             "linecolor": "white",
             "minorgridcolor": "white",
             "startlinecolor": "#2a3f5f"
            },
            "type": "carpet"
           }
          ],
          "choropleth": [
           {
            "colorbar": {
             "outlinewidth": 0,
             "ticks": ""
            },
            "type": "choropleth"
           }
          ],
          "contour": [
           {
            "colorbar": {
             "outlinewidth": 0,
             "ticks": ""
            },
            "colorscale": [
             [
              0,
              "#0d0887"
             ],
             [
              0.1111111111111111,
              "#46039f"
             ],
             [
              0.2222222222222222,
              "#7201a8"
             ],
             [
              0.3333333333333333,
              "#9c179e"
             ],
             [
              0.4444444444444444,
              "#bd3786"
             ],
             [
              0.5555555555555556,
              "#d8576b"
             ],
             [
              0.6666666666666666,
              "#ed7953"
             ],
             [
              0.7777777777777778,
              "#fb9f3a"
             ],
             [
              0.8888888888888888,
              "#fdca26"
             ],
             [
              1,
              "#f0f921"
             ]
            ],
            "type": "contour"
           }
          ],
          "contourcarpet": [
           {
            "colorbar": {
             "outlinewidth": 0,
             "ticks": ""
            },
            "type": "contourcarpet"
           }
          ],
          "heatmap": [
           {
            "colorbar": {
             "outlinewidth": 0,
             "ticks": ""
            },
            "colorscale": [
             [
              0,
              "#0d0887"
             ],
             [
              0.1111111111111111,
              "#46039f"
             ],
             [
              0.2222222222222222,
              "#7201a8"
             ],
             [
              0.3333333333333333,
              "#9c179e"
             ],
             [
              0.4444444444444444,
              "#bd3786"
             ],
             [
              0.5555555555555556,
              "#d8576b"
             ],
             [
              0.6666666666666666,
              "#ed7953"
             ],
             [
              0.7777777777777778,
              "#fb9f3a"
             ],
             [
              0.8888888888888888,
              "#fdca26"
             ],
             [
              1,
              "#f0f921"
             ]
            ],
            "type": "heatmap"
           }
          ],
          "histogram": [
           {
            "marker": {
             "pattern": {
              "fillmode": "overlay",
              "size": 10,
              "solidity": 0.2
             }
            },
            "type": "histogram"
           }
          ],
          "histogram2d": [
           {
            "colorbar": {
             "outlinewidth": 0,
             "ticks": ""
            },
            "colorscale": [
             [
              0,
              "#0d0887"
             ],
             [
              0.1111111111111111,
              "#46039f"
             ],
             [
              0.2222222222222222,
              "#7201a8"
             ],
             [
              0.3333333333333333,
              "#9c179e"
             ],
             [
              0.4444444444444444,
              "#bd3786"
             ],
             [
              0.5555555555555556,
              "#d8576b"
             ],
             [
              0.6666666666666666,
              "#ed7953"
             ],
             [
              0.7777777777777778,
              "#fb9f3a"
             ],
             [
              0.8888888888888888,
              "#fdca26"
             ],
             [
              1,
              "#f0f921"
             ]
            ],
            "type": "histogram2d"
           }
          ],
          "histogram2dcontour": [
           {
            "colorbar": {
             "outlinewidth": 0,
             "ticks": ""
            },
            "colorscale": [
             [
              0,
              "#0d0887"
             ],
             [
              0.1111111111111111,
              "#46039f"
             ],
             [
              0.2222222222222222,
              "#7201a8"
             ],
             [
              0.3333333333333333,
              "#9c179e"
             ],
             [
              0.4444444444444444,
              "#bd3786"
             ],
             [
              0.5555555555555556,
              "#d8576b"
             ],
             [
              0.6666666666666666,
              "#ed7953"
             ],
             [
              0.7777777777777778,
              "#fb9f3a"
             ],
             [
              0.8888888888888888,
              "#fdca26"
             ],
             [
              1,
              "#f0f921"
             ]
            ],
            "type": "histogram2dcontour"
           }
          ],
          "mesh3d": [
           {
            "colorbar": {
             "outlinewidth": 0,
             "ticks": ""
            },
            "type": "mesh3d"
           }
          ],
          "parcoords": [
           {
            "line": {
             "colorbar": {
              "outlinewidth": 0,
              "ticks": ""
             }
            },
            "type": "parcoords"
           }
          ],
          "pie": [
           {
            "automargin": true,
            "type": "pie"
           }
          ],
          "scatter": [
           {
            "fillpattern": {
             "fillmode": "overlay",
             "size": 10,
             "solidity": 0.2
            },
            "type": "scatter"
           }
          ],
          "scatter3d": [
           {
            "line": {
             "colorbar": {
              "outlinewidth": 0,
              "ticks": ""
             }
            },
            "marker": {
             "colorbar": {
              "outlinewidth": 0,
              "ticks": ""
             }
            },
            "type": "scatter3d"
           }
          ],
          "scattercarpet": [
           {
            "marker": {
             "colorbar": {
              "outlinewidth": 0,
              "ticks": ""
             }
            },
            "type": "scattercarpet"
           }
          ],
          "scattergeo": [
           {
            "marker": {
             "colorbar": {
              "outlinewidth": 0,
              "ticks": ""
             }
            },
            "type": "scattergeo"
           }
          ],
          "scattergl": [
           {
            "marker": {
             "colorbar": {
              "outlinewidth": 0,
              "ticks": ""
             }
            },
            "type": "scattergl"
           }
          ],
          "scattermap": [
           {
            "marker": {
             "colorbar": {
              "outlinewidth": 0,
              "ticks": ""
             }
            },
            "type": "scattermap"
           }
          ],
          "scattermapbox": [
           {
            "marker": {
             "colorbar": {
              "outlinewidth": 0,
              "ticks": ""
             }
            },
            "type": "scattermapbox"
           }
          ],
          "scatterpolar": [
           {
            "marker": {
             "colorbar": {
              "outlinewidth": 0,
              "ticks": ""
             }
            },
            "type": "scatterpolar"
           }
          ],
          "scatterpolargl": [
           {
            "marker": {
             "colorbar": {
              "outlinewidth": 0,
              "ticks": ""
             }
            },
            "type": "scatterpolargl"
           }
          ],
          "scatterternary": [
           {
            "marker": {
             "colorbar": {
              "outlinewidth": 0,
              "ticks": ""
             }
            },
            "type": "scatterternary"
           }
          ],
          "surface": [
           {
            "colorbar": {
             "outlinewidth": 0,
             "ticks": ""
            },
            "colorscale": [
             [
              0,
              "#0d0887"
             ],
             [
              0.1111111111111111,
              "#46039f"
             ],
             [
              0.2222222222222222,
              "#7201a8"
             ],
             [
              0.3333333333333333,
              "#9c179e"
             ],
             [
              0.4444444444444444,
              "#bd3786"
             ],
             [
              0.5555555555555556,
              "#d8576b"
             ],
             [
              0.6666666666666666,
              "#ed7953"
             ],
             [
              0.7777777777777778,
              "#fb9f3a"
             ],
             [
              0.8888888888888888,
              "#fdca26"
             ],
             [
              1,
              "#f0f921"
             ]
            ],
            "type": "surface"
           }
          ],
          "table": [
           {
            "cells": {
             "fill": {
              "color": "#EBF0F8"
             },
             "line": {
              "color": "white"
             }
            },
            "header": {
             "fill": {
              "color": "#C8D4E3"
             },
             "line": {
              "color": "white"
             }
            },
            "type": "table"
           }
          ]
         },
         "layout": {
          "annotationdefaults": {
           "arrowcolor": "#2a3f5f",
           "arrowhead": 0,
           "arrowwidth": 1
          },
          "autotypenumbers": "strict",
          "coloraxis": {
           "colorbar": {
            "outlinewidth": 0,
            "ticks": ""
           }
          },
          "colorscale": {
           "diverging": [
            [
             0,
             "#8e0152"
            ],
            [
             0.1,
             "#c51b7d"
            ],
            [
             0.2,
             "#de77ae"
            ],
            [
             0.3,
             "#f1b6da"
            ],
            [
             0.4,
             "#fde0ef"
            ],
            [
             0.5,
             "#f7f7f7"
            ],
            [
             0.6,
             "#e6f5d0"
            ],
            [
             0.7,
             "#b8e186"
            ],
            [
             0.8,
             "#7fbc41"
            ],
            [
             0.9,
             "#4d9221"
            ],
            [
             1,
             "#276419"
            ]
           ],
           "sequential": [
            [
             0,
             "#0d0887"
            ],
            [
             0.1111111111111111,
             "#46039f"
            ],
            [
             0.2222222222222222,
             "#7201a8"
            ],
            [
             0.3333333333333333,
             "#9c179e"
            ],
            [
             0.4444444444444444,
             "#bd3786"
            ],
            [
             0.5555555555555556,
             "#d8576b"
            ],
            [
             0.6666666666666666,
             "#ed7953"
            ],
            [
             0.7777777777777778,
             "#fb9f3a"
            ],
            [
             0.8888888888888888,
             "#fdca26"
            ],
            [
             1,
             "#f0f921"
            ]
           ],
           "sequentialminus": [
            [
             0,
             "#0d0887"
            ],
            [
             0.1111111111111111,
             "#46039f"
            ],
            [
             0.2222222222222222,
             "#7201a8"
            ],
            [
             0.3333333333333333,
             "#9c179e"
            ],
            [
             0.4444444444444444,
             "#bd3786"
            ],
            [
             0.5555555555555556,
             "#d8576b"
            ],
            [
             0.6666666666666666,
             "#ed7953"
            ],
            [
             0.7777777777777778,
             "#fb9f3a"
            ],
            [
             0.8888888888888888,
             "#fdca26"
            ],
            [
             1,
             "#f0f921"
            ]
           ]
          },
          "colorway": [
           "#636efa",
           "#EF553B",
           "#00cc96",
           "#ab63fa",
           "#FFA15A",
           "#19d3f3",
           "#FF6692",
           "#B6E880",
           "#FF97FF",
           "#FECB52"
          ],
          "font": {
           "color": "#2a3f5f"
          },
          "geo": {
           "bgcolor": "white",
           "lakecolor": "white",
           "landcolor": "#E5ECF6",
           "showlakes": true,
           "showland": true,
           "subunitcolor": "white"
          },
          "hoverlabel": {
           "align": "left"
          },
          "hovermode": "closest",
          "mapbox": {
           "style": "light"
          },
          "paper_bgcolor": "white",
          "plot_bgcolor": "#E5ECF6",
          "polar": {
           "angularaxis": {
            "gridcolor": "white",
            "linecolor": "white",
            "ticks": ""
           },
           "bgcolor": "#E5ECF6",
           "radialaxis": {
            "gridcolor": "white",
            "linecolor": "white",
            "ticks": ""
           }
          },
          "scene": {
           "xaxis": {
            "backgroundcolor": "#E5ECF6",
            "gridcolor": "white",
            "gridwidth": 2,
            "linecolor": "white",
            "showbackground": true,
            "ticks": "",
            "zerolinecolor": "white"
           },
           "yaxis": {
            "backgroundcolor": "#E5ECF6",
            "gridcolor": "white",
            "gridwidth": 2,
            "linecolor": "white",
            "showbackground": true,
            "ticks": "",
            "zerolinecolor": "white"
           },
           "zaxis": {
            "backgroundcolor": "#E5ECF6",
            "gridcolor": "white",
            "gridwidth": 2,
            "linecolor": "white",
            "showbackground": true,
            "ticks": "",
            "zerolinecolor": "white"
           }
          },
          "shapedefaults": {
           "line": {
            "color": "#2a3f5f"
           }
          },
          "ternary": {
           "aaxis": {
            "gridcolor": "white",
            "linecolor": "white",
            "ticks": ""
           },
           "baxis": {
            "gridcolor": "white",
            "linecolor": "white",
            "ticks": ""
           },
           "bgcolor": "#E5ECF6",
           "caxis": {
            "gridcolor": "white",
            "linecolor": "white",
            "ticks": ""
           }
          },
          "title": {
           "x": 0.05
          },
          "xaxis": {
           "automargin": true,
           "gridcolor": "white",
           "linecolor": "white",
           "ticks": "",
           "title": {
            "standoff": 15
           },
           "zerolinecolor": "white",
           "zerolinewidth": 2
          },
          "yaxis": {
           "automargin": true,
           "gridcolor": "white",
           "linecolor": "white",
           "ticks": "",
           "title": {
            "standoff": 15
           },
           "zerolinecolor": "white",
           "zerolinewidth": 2
          }
         }
        },
        "title": {
         "text": "Clientes com crianças em casa compram mais pelo iFood.",
         "x": 0.5
        }
       }
      }
     },
     "metadata": {},
     "output_type": "display_data"
    }
   ],
   "source": [
    "# Hipótese 4. Clientes com crianças em casa compram mais pelo ifood.\n",
    "\n",
    "gasto_criancas = pd.pivot_table(\n",
    "    df,\n",
    "    index='Criancas-Casa',\n",
    "    values='Gasto-Cliente',\n",
    "    aggfunc='sum'\n",
    ")\n",
    "\n",
    "gasto_criancas\n",
    "gasto_criancas_reset = gasto_criancas.reset_index()\n",
    "\n",
    "fig = px.pie(\n",
    "    gasto_criancas_reset,\n",
    "    names='Criancas-Casa',\n",
    "    values='Gasto-Cliente',\n",
    "    color_discrete_sequence=px.colors.qualitative.Set2\n",
    ")\n",
    "\n",
    "fig.update_traces(\n",
    "    # textposition='inside',\n",
    "    # textinfo='percent+label',\n",
    "    hovertemplate='Crianças em Casa: %{label}<br>Gasto: R$ %{value:,.0f}<extra></extra>'\n",
    ")\n",
    "\n",
    "fig.add_annotation(\n",
    "    text='Clientes sem filgos em casa representam 86% de todo o faturamento da campanha',\n",
    "    xref=\"paper\", yref=\"paper\",\n",
    "    x=0.5, y=-0.15,\n",
    "    showarrow=False,\n",
    "    font=dict(size=12),\n",
    "    align=\"center\"\n",
    ")\n",
    "\n",
    "fig.update_layout(\n",
    "    legend_title_text='Qtde de Crianças em Casa',\n",
    "    title={\n",
    "        'text': 'Clientes com crianças em casa compram mais pelo iFood.',\n",
    "        'x': 0.5\n",
    "    }\n",
    ")\n",
    "\n",
    "fig.show()"
   ]
  },
  {
   "cell_type": "code",
   "execution_count": 9,
   "id": "ba21b38d",
   "metadata": {},
   "outputs": [
    {
     "data": {
      "application/vnd.plotly.v1+json": {
       "config": {
        "plotlyServerURL": "https://plot.ly"
       },
       "data": [
        {
         "hovertemplate": "Quantidade de Carne=%{x}<br>Quantidade de Vinho=%{y}<extra></extra>",
         "legendgroup": "",
         "marker": {
          "color": "#636efa",
          "symbol": "circle"
         },
         "mode": "markers",
         "name": "",
         "showlegend": false,
         "type": "scattergl",
         "x": {
          "bdata": "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",
          "dtype": "i2"
         },
         "xaxis": "x",
         "y": {
          "bdata": "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",
          "dtype": "i2"
         },
         "yaxis": "y"
        },
        {
         "hovertemplate": "<b>OLS trendline</b><br>Qtde-Vinhos = 0.919138 * Qtde-Carnes + 154.22<br>R<sup>2</sup>=0.351790<br><br>Quantidade de Carne=%{x}<br>Quantidade de Vinho=%{y} <b>(trend)</b><extra></extra>",
         "legendgroup": "",
         "line": {
          "color": "red",
          "width": 3
         },
         "marker": {
          "color": "#636efa",
          "symbol": "circle"
         },
         "mode": "lines",
         "name": "",
         "showlegend": false,
         "type": "scattergl",
         "x": {
          "bdata": "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",
          "dtype": "i2"
         },
         "xaxis": "x",
         "y": {
          "bdata": "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",
          "dtype": "f8"
         },
         "yaxis": "y"
        }
       ],
       "layout": {
        "legend": {
         "tracegroupgap": 0
        },
        "template": {
         "data": {
          "bar": [
           {
            "error_x": {
             "color": "#2a3f5f"
            },
            "error_y": {
             "color": "#2a3f5f"
            },
            "marker": {
             "line": {
              "color": "#E5ECF6",
              "width": 0.5
             },
             "pattern": {
              "fillmode": "overlay",
              "size": 10,
              "solidity": 0.2
             }
            },
            "type": "bar"
           }
          ],
          "barpolar": [
           {
            "marker": {
             "line": {
              "color": "#E5ECF6",
              "width": 0.5
             },
             "pattern": {
              "fillmode": "overlay",
              "size": 10,
              "solidity": 0.2
             }
            },
            "type": "barpolar"
           }
          ],
          "carpet": [
           {
            "aaxis": {
             "endlinecolor": "#2a3f5f",
             "gridcolor": "white",
             "linecolor": "white",
             "minorgridcolor": "white",
             "startlinecolor": "#2a3f5f"
            },
            "baxis": {
             "endlinecolor": "#2a3f5f",
             "gridcolor": "white",
             "linecolor": "white",
             "minorgridcolor": "white",
             "startlinecolor": "#2a3f5f"
            },
            "type": "carpet"
           }
          ],
          "choropleth": [
           {
            "colorbar": {
             "outlinewidth": 0,
             "ticks": ""
            },
            "type": "choropleth"
           }
          ],
          "contour": [
           {
            "colorbar": {
             "outlinewidth": 0,
             "ticks": ""
            },
            "colorscale": [
             [
              0,
              "#0d0887"
             ],
             [
              0.1111111111111111,
              "#46039f"
             ],
             [
              0.2222222222222222,
              "#7201a8"
             ],
             [
              0.3333333333333333,
              "#9c179e"
             ],
             [
              0.4444444444444444,
              "#bd3786"
             ],
             [
              0.5555555555555556,
              "#d8576b"
             ],
             [
              0.6666666666666666,
              "#ed7953"
             ],
             [
              0.7777777777777778,
              "#fb9f3a"
             ],
             [
              0.8888888888888888,
              "#fdca26"
             ],
             [
              1,
              "#f0f921"
             ]
            ],
            "type": "contour"
           }
          ],
          "contourcarpet": [
           {
            "colorbar": {
             "outlinewidth": 0,
             "ticks": ""
            },
            "type": "contourcarpet"
           }
          ],
          "heatmap": [
           {
            "colorbar": {
             "outlinewidth": 0,
             "ticks": ""
            },
            "colorscale": [
             [
              0,
              "#0d0887"
             ],
             [
              0.1111111111111111,
              "#46039f"
             ],
             [
              0.2222222222222222,
              "#7201a8"
             ],
             [
              0.3333333333333333,
              "#9c179e"
             ],
             [
              0.4444444444444444,
              "#bd3786"
             ],
             [
              0.5555555555555556,
              "#d8576b"
             ],
             [
              0.6666666666666666,
              "#ed7953"
             ],
             [
              0.7777777777777778,
              "#fb9f3a"
             ],
             [
              0.8888888888888888,
              "#fdca26"
             ],
             [
              1,
              "#f0f921"
             ]
            ],
            "type": "heatmap"
           }
          ],
          "histogram": [
           {
            "marker": {
             "pattern": {
              "fillmode": "overlay",
              "size": 10,
              "solidity": 0.2
             }
            },
            "type": "histogram"
           }
          ],
          "histogram2d": [
           {
            "colorbar": {
             "outlinewidth": 0,
             "ticks": ""
            },
            "colorscale": [
             [
              0,
              "#0d0887"
             ],
             [
              0.1111111111111111,
              "#46039f"
             ],
             [
              0.2222222222222222,
              "#7201a8"
             ],
             [
              0.3333333333333333,
              "#9c179e"
             ],
             [
              0.4444444444444444,
              "#bd3786"
             ],
             [
              0.5555555555555556,
              "#d8576b"
             ],
             [
              0.6666666666666666,
              "#ed7953"
             ],
             [
              0.7777777777777778,
              "#fb9f3a"
             ],
             [
              0.8888888888888888,
              "#fdca26"
             ],
             [
              1,
              "#f0f921"
             ]
            ],
            "type": "histogram2d"
           }
          ],
          "histogram2dcontour": [
           {
            "colorbar": {
             "outlinewidth": 0,
             "ticks": ""
            },
            "colorscale": [
             [
              0,
              "#0d0887"
             ],
             [
              0.1111111111111111,
              "#46039f"
             ],
             [
              0.2222222222222222,
              "#7201a8"
             ],
             [
              0.3333333333333333,
              "#9c179e"
             ],
             [
              0.4444444444444444,
              "#bd3786"
             ],
             [
              0.5555555555555556,
              "#d8576b"
             ],
             [
              0.6666666666666666,
              "#ed7953"
             ],
             [
              0.7777777777777778,
              "#fb9f3a"
             ],
             [
              0.8888888888888888,
              "#fdca26"
             ],
             [
              1,
              "#f0f921"
             ]
            ],
            "type": "histogram2dcontour"
           }
          ],
          "mesh3d": [
           {
            "colorbar": {
             "outlinewidth": 0,
             "ticks": ""
            },
            "type": "mesh3d"
           }
          ],
          "parcoords": [
           {
            "line": {
             "colorbar": {
              "outlinewidth": 0,
              "ticks": ""
             }
            },
            "type": "parcoords"
           }
          ],
          "pie": [
           {
            "automargin": true,
            "type": "pie"
           }
          ],
          "scatter": [
           {
            "fillpattern": {
             "fillmode": "overlay",
             "size": 10,
             "solidity": 0.2
            },
            "type": "scatter"
           }
          ],
          "scatter3d": [
           {
            "line": {
             "colorbar": {
              "outlinewidth": 0,
              "ticks": ""
             }
            },
            "marker": {
             "colorbar": {
              "outlinewidth": 0,
              "ticks": ""
             }
            },
            "type": "scatter3d"
           }
          ],
          "scattercarpet": [
           {
            "marker": {
             "colorbar": {
              "outlinewidth": 0,
              "ticks": ""
             }
            },
            "type": "scattercarpet"
           }
          ],
          "scattergeo": [
           {
            "marker": {
             "colorbar": {
              "outlinewidth": 0,
              "ticks": ""
             }
            },
            "type": "scattergeo"
           }
          ],
          "scattergl": [
           {
            "marker": {
             "colorbar": {
              "outlinewidth": 0,
              "ticks": ""
             }
            },
            "type": "scattergl"
           }
          ],
          "scattermap": [
           {
            "marker": {
             "colorbar": {
              "outlinewidth": 0,
              "ticks": ""
             }
            },
            "type": "scattermap"
           }
          ],
          "scattermapbox": [
           {
            "marker": {
             "colorbar": {
              "outlinewidth": 0,
              "ticks": ""
             }
            },
            "type": "scattermapbox"
           }
          ],
          "scatterpolar": [
           {
            "marker": {
             "colorbar": {
              "outlinewidth": 0,
              "ticks": ""
             }
            },
            "type": "scatterpolar"
           }
          ],
          "scatterpolargl": [
           {
            "marker": {
             "colorbar": {
              "outlinewidth": 0,
              "ticks": ""
             }
            },
            "type": "scatterpolargl"
           }
          ],
          "scatterternary": [
           {
            "marker": {
             "colorbar": {
              "outlinewidth": 0,
              "ticks": ""
             }
            },
            "type": "scatterternary"
           }
          ],
          "surface": [
           {
            "colorbar": {
             "outlinewidth": 0,
             "ticks": ""
            },
            "colorscale": [
             [
              0,
              "#0d0887"
             ],
             [
              0.1111111111111111,
              "#46039f"
             ],
             [
              0.2222222222222222,
              "#7201a8"
             ],
             [
              0.3333333333333333,
              "#9c179e"
             ],
             [
              0.4444444444444444,
              "#bd3786"
             ],
             [
              0.5555555555555556,
              "#d8576b"
             ],
             [
              0.6666666666666666,
              "#ed7953"
             ],
             [
              0.7777777777777778,
              "#fb9f3a"
             ],
             [
              0.8888888888888888,
              "#fdca26"
             ],
             [
              1,
              "#f0f921"
             ]
            ],
            "type": "surface"
           }
          ],
          "table": [
           {
            "cells": {
             "fill": {
              "color": "#EBF0F8"
             },
             "line": {
              "color": "white"
             }
            },
            "header": {
             "fill": {
              "color": "#C8D4E3"
             },
             "line": {
              "color": "white"
             }
            },
            "type": "table"
           }
          ]
         },
         "layout": {
          "annotationdefaults": {
           "arrowcolor": "#2a3f5f",
           "arrowhead": 0,
           "arrowwidth": 1
          },
          "autotypenumbers": "strict",
          "coloraxis": {
           "colorbar": {
            "outlinewidth": 0,
            "ticks": ""
           }
          },
          "colorscale": {
           "diverging": [
            [
             0,
             "#8e0152"
            ],
            [
             0.1,
             "#c51b7d"
            ],
            [
             0.2,
             "#de77ae"
            ],
            [
             0.3,
             "#f1b6da"
            ],
            [
             0.4,
             "#fde0ef"
            ],
            [
             0.5,
             "#f7f7f7"
            ],
            [
             0.6,
             "#e6f5d0"
            ],
            [
             0.7,
             "#b8e186"
            ],
            [
             0.8,
             "#7fbc41"
            ],
            [
             0.9,
             "#4d9221"
            ],
            [
             1,
             "#276419"
            ]
           ],
           "sequential": [
            [
             0,
             "#0d0887"
            ],
            [
             0.1111111111111111,
             "#46039f"
            ],
            [
             0.2222222222222222,
             "#7201a8"
            ],
            [
             0.3333333333333333,
             "#9c179e"
            ],
            [
             0.4444444444444444,
             "#bd3786"
            ],
            [
             0.5555555555555556,
             "#d8576b"
            ],
            [
             0.6666666666666666,
             "#ed7953"
            ],
            [
             0.7777777777777778,
             "#fb9f3a"
            ],
            [
             0.8888888888888888,
             "#fdca26"
            ],
            [
             1,
             "#f0f921"
            ]
           ],
           "sequentialminus": [
            [
             0,
             "#0d0887"
            ],
            [
             0.1111111111111111,
             "#46039f"
            ],
            [
             0.2222222222222222,
             "#7201a8"
            ],
            [
             0.3333333333333333,
             "#9c179e"
            ],
            [
             0.4444444444444444,
             "#bd3786"
            ],
            [
             0.5555555555555556,
             "#d8576b"
            ],
            [
             0.6666666666666666,
             "#ed7953"
            ],
            [
             0.7777777777777778,
             "#fb9f3a"
            ],
            [
             0.8888888888888888,
             "#fdca26"
            ],
            [
             1,
             "#f0f921"
            ]
           ]
          },
          "colorway": [
           "#636efa",
           "#EF553B",
           "#00cc96",
           "#ab63fa",
           "#FFA15A",
           "#19d3f3",
           "#FF6692",
           "#B6E880",
           "#FF97FF",
           "#FECB52"
          ],
          "font": {
           "color": "#2a3f5f"
          },
          "geo": {
           "bgcolor": "white",
           "lakecolor": "white",
           "landcolor": "#E5ECF6",
           "showlakes": true,
           "showland": true,
           "subunitcolor": "white"
          },
          "hoverlabel": {
           "align": "left"
          },
          "hovermode": "closest",
          "mapbox": {
           "style": "light"
          },
          "paper_bgcolor": "white",
          "plot_bgcolor": "#E5ECF6",
          "polar": {
           "angularaxis": {
            "gridcolor": "white",
            "linecolor": "white",
            "ticks": ""
           },
           "bgcolor": "#E5ECF6",
           "radialaxis": {
            "gridcolor": "white",
            "linecolor": "white",
            "ticks": ""
           }
          },
          "scene": {
           "xaxis": {
            "backgroundcolor": "#E5ECF6",
            "gridcolor": "white",
            "gridwidth": 2,
            "linecolor": "white",
            "showbackground": true,
            "ticks": "",
            "zerolinecolor": "white"
           },
           "yaxis": {
            "backgroundcolor": "#E5ECF6",
            "gridcolor": "white",
            "gridwidth": 2,
            "linecolor": "white",
            "showbackground": true,
            "ticks": "",
            "zerolinecolor": "white"
           },
           "zaxis": {
            "backgroundcolor": "#E5ECF6",
            "gridcolor": "white",
            "gridwidth": 2,
            "linecolor": "white",
            "showbackground": true,
            "ticks": "",
            "zerolinecolor": "white"
           }
          },
          "shapedefaults": {
           "line": {
            "color": "#2a3f5f"
           }
          },
          "ternary": {
           "aaxis": {
            "gridcolor": "white",
            "linecolor": "white",
            "ticks": ""
           },
           "baxis": {
            "gridcolor": "white",
            "linecolor": "white",
            "ticks": ""
           },
           "bgcolor": "#E5ECF6",
           "caxis": {
            "gridcolor": "white",
            "linecolor": "white",
            "ticks": ""
           }
          },
          "title": {
           "x": 0.05
          },
          "xaxis": {
           "automargin": true,
           "gridcolor": "white",
           "linecolor": "white",
           "ticks": "",
           "title": {
            "standoff": 15
           },
           "zerolinecolor": "white",
           "zerolinewidth": 2
          },
          "yaxis": {
           "automargin": true,
           "gridcolor": "white",
           "linecolor": "white",
           "ticks": "",
           "title": {
            "standoff": 15
           },
           "zerolinecolor": "white",
           "zerolinewidth": 2
          }
         }
        },
        "title": {
         "text": "Clientes que compram mais carne também compram mais vinho."
        },
        "xaxis": {
         "anchor": "y",
         "domain": [
          0,
          1
         ],
         "title": {
          "text": "Quantidade de Carne"
         }
        },
        "yaxis": {
         "anchor": "x",
         "domain": [
          0,
          1
         ],
         "title": {
          "text": "Quantidade de Vinho"
         }
        }
       }
      }
     },
     "metadata": {},
     "output_type": "display_data"
    }
   ],
   "source": [
    "# Hipótese 5. Clientes que compram mais carne também compram mais vinho.\n",
    "\n",
    "gasto_carne_vinho = df.groupby('ID')[['Qtde-Carnes','Qtde-Vinhos']].sum()\n",
    "\n",
    "fig = px.scatter(\n",
    "    gasto_carne_vinho.reset_index(),\n",
    "    x='Qtde-Carnes',\n",
    "    y='Qtde-Vinhos',\n",
    "    title='Clientes que compram mais carne também compram mais vinho.',\n",
    "    labels={\n",
    "        'Qtde-Carnes': 'Quantidade de Carne',\n",
    "        'Qtde-Vinhos': 'Quantidade de Vinho'\n",
    "    },\n",
    "    trendline='ols'\n",
    ")\n",
    "\n",
    "fig.data[1].update(\n",
    "    line=dict(color='red', width=3)\n",
    ")\n",
    "\n",
    "fig.show()"
   ]
  },
  {
   "cell_type": "markdown",
   "id": "928dccc0",
   "metadata": {},
   "source": [
    "---"
   ]
  },
  {
   "cell_type": "markdown",
   "id": "631b906b",
   "metadata": {},
   "source": []
  },
  {
   "cell_type": "markdown",
   "id": "c3350c81",
   "metadata": {},
   "source": [
    "---"
   ]
  }
 ],
 "metadata": {
  "kernelspec": {
   "display_name": "py_313_data (3.13.5)",
   "language": "python",
   "name": "python3"
  },
  "language_info": {
   "codemirror_mode": {
    "name": "ipython",
    "version": 3
   },
   "file_extension": ".py",
   "mimetype": "text/x-python",
   "name": "python",
   "nbconvert_exporter": "python",
   "pygments_lexer": "ipython3",
   "version": "3.13.5"
  }
 },
 "nbformat": 4,
 "nbformat_minor": 5
}
